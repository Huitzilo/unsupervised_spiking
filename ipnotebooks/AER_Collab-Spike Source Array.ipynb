{
 "cells": [
  {
   "cell_type": "code",
   "execution_count": null,
   "metadata": {},
   "outputs": [],
   "source": [
    "!conda create -n aer_collab numpy pip matplotlib jupyter"
   ]
  },
  {
   "cell_type": "code",
   "execution_count": null,
   "metadata": {},
   "outputs": [],
   "source": [
    "!source activate aer_collab"
   ]
  },
  {
   "cell_type": "code",
   "execution_count": 1,
   "metadata": {
    "scrolled": true
   },
   "outputs": [
    {
     "name": "stdout",
     "output_type": "stream",
     "text": [
      "Requirement already up-to-date: hbp_neuromorphic_platform in /home/sam/anaconda2/envs/aer_collab/lib/python2.7/site-packages\n",
      "Requirement already up-to-date: requests in /home/sam/anaconda2/envs/aer_collab/lib/python2.7/site-packages (from hbp_neuromorphic_platform)\n",
      "Requirement already up-to-date: urllib3<1.23,>=1.21.1 in /home/sam/anaconda2/envs/aer_collab/lib/python2.7/site-packages (from requests->hbp_neuromorphic_platform)\n",
      "Requirement already up-to-date: idna<2.7,>=2.5 in /home/sam/anaconda2/envs/aer_collab/lib/python2.7/site-packages (from requests->hbp_neuromorphic_platform)\n",
      "Requirement already up-to-date: chardet<3.1.0,>=3.0.2 in /home/sam/anaconda2/envs/aer_collab/lib/python2.7/site-packages (from requests->hbp_neuromorphic_platform)\n",
      "Requirement already up-to-date: certifi>=2017.4.17 in /home/sam/anaconda2/envs/aer_collab/lib/python2.7/site-packages (from requests->hbp_neuromorphic_platform)\n"
     ]
    }
   ],
   "source": [
    "!pip install -U hbp_neuromorphic_platform"
   ]
  },
  {
   "cell_type": "code",
   "execution_count": 3,
   "metadata": {},
   "outputs": [
    {
     "name": "stdout",
     "output_type": "stream",
     "text": [
      "········\n",
      "[u'UH AI state', u'BioMachineLearning', u'SpiNNaker Workshop 2017 Collab']\n"
     ]
    }
   ],
   "source": [
    "import nmpi\n",
    "client = nmpi.Client(\"sesutton\")\n",
    "print(client.my_collabs().keys())"
   ]
  },
  {
   "cell_type": "code",
   "execution_count": 4,
   "metadata": {},
   "outputs": [],
   "source": [
    "aistate_collab_id = client.my_collabs()['UH AI state']['id']"
   ]
  },
  {
   "cell_type": "code",
   "execution_count": 31,
   "metadata": {},
   "outputs": [
    {
     "name": "stdout",
     "output_type": "stream",
     "text": [
      "Overwriting pynnscript.py\n"
     ]
    }
   ],
   "source": [
    "%%writefile pynnscript.py\n",
    "\n",
    "import os\n",
    "import urllib\n",
    "import zipfile\n",
    "\n",
    "download_data = True\n",
    "remove_data = True\n",
    "directory = os.getcwd() + '/data/'\n",
    "\n",
    "zipfn = 'data.zip'\n",
    "\n",
    "if download_data:\n",
    "    if not os.path.exists(directory):\n",
    "        os.makedirs(directory)\n",
    "\n",
    "    url = 'http://rpg.ifi.uzh.ch/datasets/davis/office_zigzag.zip'\n",
    "\n",
    "    urllib.urlretrieve(url, zipfn)\n",
    "    with zipfile.ZipFile(os.getcwd() + '/' + zipfn, \"r\") as z:\n",
    "        z.extractall(directory)\n",
    "\n",
    "import numpy as np\n",
    "fname = directory + 'events.txt'\n",
    "#dt = np.dtype([('time', float), ('x',int), ('y', int) ,('polarity', int)])\n",
    "\n",
    "print \"Reading Data: {}\".format(fname)\n",
    "\n",
    "event_data = np.genfromtxt(fname,delimiter=' ')\n",
    "\n",
    "print \"Finished Reading Data\"\n",
    "\n",
    "if remove_data:\n",
    "    import shutil\n",
    "    shutil.rmtree(directory)\n",
    "    os.remove(zipfn)\n"
   ]
  },
  {
   "cell_type": "code",
   "execution_count": 32,
   "metadata": {},
   "outputs": [
    {
     "name": "stdout",
     "output_type": "stream",
     "text": [
      "Appending to pynnscript.py\n"
     ]
    }
   ],
   "source": [
    "%%writefile -a pynnscript.py\n",
    "\n",
    "#input_rect (min_x,max_x,min_y,max_y)\n",
    "input_rect = (0,9,0,9)\n",
    "\n",
    "#get data within input_rect\n",
    "x_rows = np.where(np.logical_and(event_data[:,1] >= input_rect[0], event_data[:,1] <= input_rect[1]))\n",
    "y_rows = np.where(np.logical_and(event_data[:,2] >= input_rect[2], event_data[:,2] <= input_rect[3]))\n",
    "rows = np.intersect1d(x_rows,y_rows)\n",
    "event_data = event_data[rows]\n",
    "\n",
    "x = event_data[:,1]\n",
    "y = event_data[:,2]\n",
    "\n",
    "#remove on events\n",
    "rows = np.where(event_data[:,3] == 0)\n",
    "event_data = event_data[rows]\n",
    "\n",
    "n_neurons = (input_rect[1] - input_rect[0] + 1) * (input_rect[3] - input_rect[2] + 1)\n",
    "\n",
    "print 'n_neurons {} max event x {} y {} min event x {} y {} '.format(n_neurons, max(x), max(y), min(x), min(y))\n"
   ]
  },
  {
   "cell_type": "code",
   "execution_count": 33,
   "metadata": {},
   "outputs": [
    {
     "name": "stdout",
     "output_type": "stream",
     "text": [
      "Appending to pynnscript.py\n"
     ]
    }
   ],
   "source": [
    "%%writefile -a pynnscript.py\n",
    "\n",
    "spike_times = [[] for i in range(n_neurons)]\n",
    "\n",
    "for i in range(event_data.shape[0]):\n",
    "    time = int(event_data[i,0] * 1000)\n",
    "    neuron_x = event_data[i,1] - input_rect[0]\n",
    "    neuron_y = event_data[i,2] - input_rect[2]\n",
    "    row_length = input_rect[1] - input_rect[0]\n",
    "    neuron_id = int( row_length * neuron_y + neuron_x)\n",
    "\n",
    "    if(neuron_id < 0):\n",
    "        print \"whoops\"\n",
    "    elif (neuron_id > n_neurons):\n",
    "        print \"poo\"\n",
    "    try:\n",
    "        spike_times[neuron_id].append(time)\n",
    "    except Exception as e:\n",
    "        print \"n_id {} spike_times len {} n_x {} n_y {} row_length {}\"(neuron_id, len(spike_times), neuron_x, neuron_y, row_length)\n",
    "        raise e"
   ]
  },
  {
   "cell_type": "markdown",
   "metadata": {},
   "source": [
    "Based on 'https://github.com/SpiNNakerManchester/PyNN7Examples/blob/master/examples/external_devices_examples/live_examples/spike_io.py'"
   ]
  },
  {
   "cell_type": "code",
   "execution_count": 34,
   "metadata": {},
   "outputs": [
    {
     "name": "stdout",
     "output_type": "stream",
     "text": [
      "Appending to pynnscript.py\n"
     ]
    }
   ],
   "source": [
    "%%writefile -a pynnscript.py\n",
    "\n",
    "#import pyNN.spiNNaker as sim\n",
    "\n",
    "import spynnaker7.pyNN as p\n",
    "#import spynnaker8.pyNN as p\n",
    "import time\n",
    "from threading import Condition\n",
    "\n",
    "# initial call to set up the front end (pynn requirement)\n",
    "p.setup(timestep=1.0, min_delay=1.0, max_delay=144.0)\n"
   ]
  },
  {
   "cell_type": "code",
   "execution_count": 35,
   "metadata": {},
   "outputs": [
    {
     "name": "stdout",
     "output_type": "stream",
     "text": [
      "Appending to pynnscript.py\n"
     ]
    }
   ],
   "source": [
    "%%writefile -a pynnscript.py\n",
    "\n",
    "# neurons per population and the length of runtime in ms for the simulation,\n",
    "# as well as the expected weight each spike will contain\n",
    "\n",
    "n_pops = 2\n",
    "\n",
    "input_runtime = np.max(event_data[:,0]) * 1000\n",
    "extra_time = 1000\n",
    "run_time = input_runtime + extra_time\n",
    "\n",
    "weight_to_spike = 2.0"
   ]
  },
  {
   "cell_type": "code",
   "execution_count": 36,
   "metadata": {},
   "outputs": [
    {
     "name": "stdout",
     "output_type": "stream",
     "text": [
      "Appending to pynnscript.py\n"
     ]
    }
   ],
   "source": [
    "%%writefile -a pynnscript.py\n",
    "\n",
    "# neural parameters of the ifcur model used to respond to injected spikes.\n",
    "# (cell params for a synfire chain)\n",
    "cell_params_lif = {'cm': 0.25,\n",
    "                   'i_offset': 0.0,\n",
    "                   'tau_m': 20.0,\n",
    "                   'tau_refrac': 2.0,\n",
    "                   'tau_syn_E': 5.0,\n",
    "                   'tau_syn_I': 5.0,\n",
    "                   'v_reset': -70.0,\n",
    "                   'v_rest': -65.0,\n",
    "                   'v_thresh': -50.0\n",
    "                   }\n",
    "\n",
    "##################################\n",
    "# Parameters for the injector population.  This is the minimal set of\n",
    "# parameters required, which is for a set of spikes where the key is not\n",
    "# important.  Note that a virtual key *will* be assigned to the population,\n",
    "# and that spikes sent which do not match this virtual key will be dropped;\n",
    "# however, if spikes are sent using 16-bit keys, they will automatically be\n",
    "# made to match the virtual key.  The virtual key assigned can be obtained\n",
    "# from the database.\n",
    "##################################\n",
    "cell_params_spike_injector = {\n",
    "    # The port on which the spiNNaker machine should listen for packets.\n",
    "    # Packets to be injected should be sent to this port on the spiNNaker\n",
    "    # machine\n",
    "    'port': 12345,\n",
    "}\n",
    "\n",
    "\n",
    "##################################\n",
    "# Parameters for the injector population.  Note that each injector needs to\n",
    "# be given a different port.  The virtual key is assigned here, rather than\n",
    "# being allocated later.  As with the above, spikes injected need to match\n",
    "# this key, and this will be done automatically with 16-bit keys.\n",
    "##################################\n",
    "cell_params_spike_injector_with_key = {\n",
    "\n",
    "    # The port on which the spiNNaker machine should listen for packets.\n",
    "    # Packets to be injected should be sent to this port on the spiNNaker\n",
    "    # machine\n",
    "    'port': 12346,\n",
    "\n",
    "    # This is the base key to be used for the injection, which is used to\n",
    "    # allow the keys to be routed around the spiNNaker machine.  This\n",
    "    # assignment means that 32-bit keys must have the high-order 16-bit\n",
    "    # set to 0x7; This will automatically be prepended to 16-bit keys.\n",
    "    'virtual_key': 0x70000,\n",
    "}\n"
   ]
  },
  {
   "cell_type": "code",
   "execution_count": 37,
   "metadata": {},
   "outputs": [
    {
     "name": "stdout",
     "output_type": "stream",
     "text": [
      "Appending to pynnscript.py\n"
     ]
    }
   ],
   "source": [
    "%%writefile -a pynnscript.py\n",
    "\n",
    "#timing_rule = p.SpikePairRule(tau_plus=20.0, tau_minus=20.0, A_plus=0.5, A_minus=0.5)\n",
    "timing_rule = p.SpikePairRule(tau_plus=20.0, tau_minus=20.0)\n",
    "#weight_rule = p.AdditiveWeightDependence(w_max=5.0, w_min=0.0)\n",
    "weight_rule = p.AdditiveWeightDependence(w_max=5.0, w_min=0.0, A_plus=0.5, A_minus=0.5)\n",
    "\n",
    "#stdp_model = p.STDPMechanism(timing_dependence=timing_rule, weight_dependence=weight_rule, weight=0.0, delay=5.0)\n",
    "stdp_model = p.SynapseDynamics(slow=p.STDPMechanism(timing_dependence=timing_rule, weight_dependence=weight_rule))"
   ]
  },
  {
   "cell_type": "code",
   "execution_count": 38,
   "metadata": {},
   "outputs": [
    {
     "name": "stdout",
     "output_type": "stream",
     "text": [
      "Appending to pynnscript.py\n"
     ]
    }
   ],
   "source": [
    "%%writefile -a pynnscript.py\n",
    "\n",
    "injector = p.Population(n_neurons, p.SpikeSourceArray, {'spike_times': spike_times}, label='spike_injector')\n",
    "\n",
    "pops = []\n",
    "for i in range(n_pops):\n",
    "    # create populations (if cur exp)\n",
    "    pops.append(p.Population(n_neurons, p.IF_curr_exp, cell_params_lif, label='pop_{}'.format(i)))\n",
    "\n",
    "\n",
    "    # Create a connection from the injector into the populations\n",
    "    #p.Projection(injector, pops[i], p.OneToOneConnector(weights=weight_to_spike), synapse_type=stdp_model)\n",
    "    p.Projection(injector, pops[i], p.OneToOneConnector(weights=weight_to_spike), synapse_dynamics=stdp_model)\n",
    "\n",
    "    # record output for this population\n",
    "    pops[i].record()\n",
    "\n",
    "    # Activate the sending of live spikes\n",
    "    p.external_devices.activate_live_output_for(pops[i], database_notify_host=\"localhost\", database_notify_port_num=19996)"
   ]
  },
  {
   "cell_type": "code",
   "execution_count": 39,
   "metadata": {},
   "outputs": [
    {
     "name": "stdout",
     "output_type": "stream",
     "text": [
      "Appending to pynnscript.py\n"
     ]
    }
   ],
   "source": [
    "%%writefile -a pynnscript.py\n",
    "\n",
    "# Create a connection from the injector into the populations\n",
    "\n",
    "for i in range(n_pops):\n",
    "    for j in range(n_pops):\n",
    "        if(i != j):\n",
    "            #p.Projection(pops[i], pops[j], p.OneToOneConnector(weights=weight_to_spike), synapse_type=p.StaticSynapse(weight=-0.75,delay=1.0))# Create a condition to avoid overlapping prints\n",
    "            p.Projection(pops[i], pops[j], p.OneToOneConnector(weights=weight_to_spike))"
   ]
  },
  {
   "cell_type": "code",
   "execution_count": 40,
   "metadata": {},
   "outputs": [
    {
     "name": "stdout",
     "output_type": "stream",
     "text": [
      "Appending to pynnscript.py\n"
     ]
    }
   ],
   "source": [
    "%%writefile -a pynnscript.py\n",
    "\n",
    "# Create a condition to avoid overlapping prints\n",
    "print_condition = Condition()"
   ]
  },
  {
   "cell_type": "code",
   "execution_count": 41,
   "metadata": {},
   "outputs": [
    {
     "name": "stdout",
     "output_type": "stream",
     "text": [
      "Appending to pynnscript.py\n"
     ]
    }
   ],
   "source": [
    "%%writefile -a pynnscript.py\n",
    "\n",
    "# Create an initialisation method\n",
    "def init_pop(label, n_neurons, run_time_ms, machine_timestep_ms):\n",
    "    print \"{} has {} neurons\".format(label, n_neurons)\n",
    "    print \"Simulation will run for {}ms at {}ms timesteps\".format(run_time_ms, machine_timestep_ms)\n",
    " "
   ]
  },
  {
   "cell_type": "code",
   "execution_count": 42,
   "metadata": {},
   "outputs": [
    {
     "name": "stdout",
     "output_type": "stream",
     "text": [
      "Appending to pynnscript.py\n"
     ]
    }
   ],
   "source": [
    "%%writefile -a pynnscript.py\n",
    "\n",
    "# Create a receiver of live spikes\n",
    "def receive_spikes(label, time, neuron_ids):\n",
    "    for neuron_id in neuron_ids:\n",
    "        print_condition.acquire()\n",
    "        print \"Received spike at time\", time, \"from\", label, \"-\", neuron_id\n",
    "        print_condition.release()\n",
    "        # Set up the live connection for sending spikes\n",
    "        "
   ]
  },
  {
   "cell_type": "code",
   "execution_count": 43,
   "metadata": {},
   "outputs": [
    {
     "name": "stdout",
     "output_type": "stream",
     "text": [
      "Appending to pynnscript.py\n"
     ]
    }
   ],
   "source": [
    "%%writefile -a pynnscript.py\n",
    "\n",
    "# Set up the live connection for sending spikes\n",
    "live_spikes_connection_send = \\\n",
    "    p.external_devices.SpynnakerLiveSpikesConnection(receive_labels=None, local_port=19999,send_labels=[\"spike_injector\"])\n",
    "\n",
    "# Set up callbacks to occur at initialisation\n",
    "live_spikes_connection_send.add_init_callback(\"spike_injector\", init_pop)"
   ]
  },
  {
   "cell_type": "code",
   "execution_count": 44,
   "metadata": {},
   "outputs": [
    {
     "name": "stdout",
     "output_type": "stream",
     "text": [
      "Appending to pynnscript.py\n"
     ]
    }
   ],
   "source": [
    "%%writefile -a pynnscript.py\n",
    "\n",
    "# if not using the c visualiser, then a new spynnaker live spikes\n",
    "# connection is created to define that there is a python function which\n",
    "# receives the spikes.\n",
    "\n",
    "pop_labels = ['pop_{}'.format(i) for i in range(n_pops)]\n",
    "\n",
    "live_spikes_connection_receive = \\\n",
    "    p.external_devices.SpynnakerLiveSpikesConnection(receive_labels=pop_labels,local_port=19996, send_labels=None)\n",
    "\n",
    "# Set up callbacks to occur when spikes are received\n",
    "for i in range(n_pops):\n",
    "    live_spikes_connection_receive.add_receive_callback(pop_labels[i], receive_spikes)\n"
   ]
  },
  {
   "cell_type": "code",
   "execution_count": 45,
   "metadata": {},
   "outputs": [
    {
     "name": "stdout",
     "output_type": "stream",
     "text": [
      "Appending to pynnscript.py\n"
     ]
    }
   ],
   "source": [
    "%%writefile -a pynnscript.py\n",
    "\n",
    "# Run the simulation on spiNNaker\n",
    "p.run(run_time)"
   ]
  },
  {
   "cell_type": "code",
   "execution_count": 46,
   "metadata": {},
   "outputs": [
    {
     "name": "stdout",
     "output_type": "stream",
     "text": [
      "Appending to pynnscript.py\n"
     ]
    }
   ],
   "source": [
    "%%writefile -a pynnscript.py\n",
    "\n",
    "# Retrieve spikes from the synfire chain population\n",
    "spikes = [pops[i].getSpikes() for i in range(n_pops)]\n",
    "\n",
    "import matplotlib as mpl\n",
    "mpl.use('Agg')\n",
    "import matplotlib.pyplot as plt\n",
    "\n",
    "# If there are spikes, plot using matplotlib\n",
    "number_of_spikes = sum([len(pops[i]) for i in range(n_pops)])\n",
    "if number_of_spikes != 0:\n",
    "    plt.figure(figsize=(20,10))\n",
    "    f, axarr = plt.subplots(n_pops, sharex=True)\n",
    "    axarr[0].set_title('Spikes')\n",
    "    colourarr = ['b', 'g', 'r', 'c', 'm', 'y', 'k', 'w']\n",
    "    for i in range(n_pops):\n",
    "        if len(spikes[i]) != 0:\n",
    "            axarr[i].plot([j[1] for j in spikes[i]],\n",
    "                    [j[0] for j in spikes[i]],'o', ms=0.1, c=colourarr[i % len(colourarr)])\n",
    "        axarr[i].set_ylabel('Neuron id')\n",
    "        axarr[i].set_xlabel('Time/ms')\n",
    "\n",
    "    import datetime\n",
    "    f.savefig(datetime.datetime.now().strftime(\"%Y-%m-%d %H:%M:%S\") + '.pdf')\n",
    "else:\n",
    "    print \"No spikes received\"\n",
    "\n",
    "# Clear data structures on spiNNaker to leave the machine in a clean state for\n",
    "# future executions\n",
    "p.end()"
   ]
  },
  {
   "cell_type": "code",
   "execution_count": 47,
   "metadata": {},
   "outputs": [],
   "source": [
    "%pycat pynnscript.py"
   ]
  },
  {
   "cell_type": "code",
   "execution_count": 48,
   "metadata": {},
   "outputs": [
    {
     "name": "stdout",
     "output_type": "stream",
     "text": [
      "Job submitted\n"
     ]
    }
   ],
   "source": [
    "job_path = client.submit_job(source='pynnscript.py',\n",
    "                      platform=nmpi.SPINNAKER,\n",
    "                      collab_id=aistate_collab_id,\n",
    "                      config={},\n",
    "                      command=\"run.py\")\n"
   ]
  },
  {
   "cell_type": "code",
   "execution_count": 49,
   "metadata": {},
   "outputs": [],
   "source": [
    "job_id = job_path.split('/')[-1]"
   ]
  },
  {
   "cell_type": "code",
   "execution_count": 52,
   "metadata": {},
   "outputs": [
    {
     "data": {
      "text/plain": [
       "u'error'"
      ]
     },
     "execution_count": 52,
     "metadata": {},
     "output_type": "execute_result"
    }
   ],
   "source": [
    "# execute this line until it says 'finished'\n",
    "client.job_status(job_id)"
   ]
  },
  {
   "cell_type": "code",
   "execution_count": 53,
   "metadata": {},
   "outputs": [],
   "source": [
    "ret = client.get_job(job_id, with_log=True)"
   ]
  },
  {
   "cell_type": "code",
   "execution_count": 54,
   "metadata": {},
   "outputs": [
    {
     "name": "stdout",
     "output_type": "stream",
     "text": [
      "Traceback (most recent call last):\n",
      "  File \"run.py\", line 19, in <module>\n",
      "    with zipfile.ZipFile(os.getcwd() + '/' + zipfn, \"r\") as z:\n",
      "  File \"/usr/lib/python2.7/zipfile.py\", line 770, in __init__\n",
      "    self._RealGetContents()\n",
      "  File \"/usr/lib/python2.7/zipfile.py\", line 811, in _RealGetContents\n",
      "    raise BadZipfile, \"File is not a zip file\"\n",
      "zipfile.BadZipfile: File is not a zip file\n",
      "\n",
      "\n",
      "==================\n",
      "Error:\n",
      "java.lang.Exception: Python exited with a non-zero code (1)\n",
      "\tat uk.ac.manchester.cs.spinnaker.jobprocess.PyNNJobProcess.execute(PyNNJobProcess.java:158)\n",
      "\tat uk.ac.manchester.cs.spinnaker.jobprocess.PyNNJobProcess.execute(PyNNJobProcess.java:49)\n",
      "\tat uk.ac.manchester.cs.spinnaker.jobprocessmanager.JobProcessManager.runJob(JobProcessManager.java:155)\n",
      "\tat uk.ac.manchester.cs.spinnaker.jobprocessmanager.JobProcessManager.main(JobProcessManager.java:235)\n",
      "\n"
     ]
    }
   ],
   "source": [
    "print(ret['log'])"
   ]
  },
  {
   "cell_type": "code",
   "execution_count": null,
   "metadata": {},
   "outputs": [],
   "source": []
  }
 ],
 "metadata": {
  "kernelspec": {
   "display_name": "Python 2",
   "language": "python",
   "name": "python2"
  },
  "language_info": {
   "codemirror_mode": {
    "name": "ipython",
    "version": 2
   },
   "file_extension": ".py",
   "mimetype": "text/x-python",
   "name": "python",
   "nbconvert_exporter": "python",
   "pygments_lexer": "ipython2",
   "version": "2.7.14"
  }
 },
 "nbformat": 4,
 "nbformat_minor": 2
}
