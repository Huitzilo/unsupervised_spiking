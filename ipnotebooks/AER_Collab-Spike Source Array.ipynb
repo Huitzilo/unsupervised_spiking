{
 "cells": [
  {
   "cell_type": "code",
   "execution_count": 1,
   "metadata": {
    "collapsed": false
   },
   "outputs": [
    {
     "name": "stdout",
     "output_type": "stream",
     "text": [
      "\r\n",
      "CondaValueError: prefix already exists: /home/sam/anaconda2/envs/aer_collab\r\n",
      "\r\n"
     ]
    }
   ],
   "source": [
    "!conda create -n aer_collab numpy pip matplotlib jupyter"
   ]
  },
  {
   "cell_type": "code",
   "execution_count": null,
   "metadata": {
    "collapsed": true
   },
   "outputs": [],
   "source": [
    "!source activate aer_collab"
   ]
  },
  {
   "cell_type": "code",
   "execution_count": 2,
   "metadata": {
    "collapsed": false,
    "scrolled": true
   },
   "outputs": [
    {
     "name": "stdout",
     "output_type": "stream",
     "text": [
      "Requirement already up-to-date: hbp_neuromorphic_platform in /home/sam/anaconda2/lib/python2.7/site-packages\n",
      "Requirement already up-to-date: requests in /home/sam/anaconda2/lib/python2.7/site-packages (from hbp_neuromorphic_platform)\n",
      "Requirement already up-to-date: idna<2.7,>=2.5 in /home/sam/anaconda2/lib/python2.7/site-packages (from requests->hbp_neuromorphic_platform)\n",
      "Requirement already up-to-date: urllib3<1.23,>=1.21.1 in /home/sam/anaconda2/lib/python2.7/site-packages (from requests->hbp_neuromorphic_platform)\n",
      "Requirement already up-to-date: certifi>=2017.4.17 in /home/sam/anaconda2/lib/python2.7/site-packages (from requests->hbp_neuromorphic_platform)\n",
      "Requirement already up-to-date: chardet<3.1.0,>=3.0.2 in /home/sam/anaconda2/lib/python2.7/site-packages (from requests->hbp_neuromorphic_platform)\n"
     ]
    }
   ],
   "source": [
    "!pip install -U hbp_neuromorphic_platform"
   ]
  },
  {
   "cell_type": "code",
   "execution_count": null,
   "metadata": {
    "collapsed": true
   },
   "outputs": [],
   "source": [
    "!unzip office_zigzag.zip -d office_zigzag/\n",
    "!rm office_zigzag.zip\n",
    "!cp office_zigzag/events.txt .\n",
    "!rm -r office_zigzag/"
   ]
  },
  {
   "cell_type": "code",
   "execution_count": 4,
   "metadata": {
    "collapsed": false
   },
   "outputs": [
    {
     "name": "stdout",
     "output_type": "stream",
     "text": [
      "········\n",
      "[u'UH AI state', u'BioMachineLearning', u'SpiNNaker Workshop 2017 Collab']\n"
     ]
    }
   ],
   "source": [
    "import nmpi\n",
    "client = nmpi.Client(\"sesutton\")\n",
    "print(client.my_collabs().keys())"
   ]
  },
  {
   "cell_type": "code",
   "execution_count": 5,
   "metadata": {
    "collapsed": true
   },
   "outputs": [],
   "source": [
    "aistate_collab_id = client.my_collabs()['UH AI state']['id']"
   ]
  },
  {
   "cell_type": "code",
   "execution_count": 6,
   "metadata": {
    "collapsed": false
   },
   "outputs": [
    {
     "name": "stdout",
     "output_type": "stream",
     "text": [
      "Overwriting pynnscript.py\n"
     ]
    }
   ],
   "source": [
    "%%writefile pynnscript.py\n",
    "\n",
    "#coding: utf-8\n",
    "import socket\n",
    "import spynnaker8 as p\n",
    "from pyNN.random import NumpyRNG, RandomDistribution\n",
    "from pyNN.utility import Timer\n",
    "\n",
    "import os\n",
    "import numpy as np\n",
    "import random\n",
    "\n",
    "import matplotlib as mpl\n",
    "import matplotlib.pyplot as plt\n",
    "import datetime\n",
    "mpl.use('Agg')"
   ]
  },
  {
   "cell_type": "code",
   "execution_count": 7,
   "metadata": {
    "collapsed": false
   },
   "outputs": [
    {
     "name": "stdout",
     "output_type": "stream",
     "text": [
      "Appending to pynnscript.py\n"
     ]
    }
   ],
   "source": [
    "%%writefile -a pynnscript.py\n",
    "\n",
    "# === Reading AER Data ===\n",
    "directory = os.getcwd() + '/' \n",
    "fname = directory + 'simulate_events_11x11.txt'\n",
    "\n",
    "print \"Reading Data: {}\".format(fname)\n",
    "\n",
    "event_data = np.genfromtxt(fname,delimiter=' ')\n",
    "\n",
    "print \"Finished Reading Data\""
   ]
  },
  {
   "cell_type": "code",
   "execution_count": 8,
   "metadata": {
    "collapsed": false
   },
   "outputs": [
    {
     "name": "stdout",
     "output_type": "stream",
     "text": [
      "Appending to pynnscript.py\n"
     ]
    }
   ],
   "source": [
    "%%writefile -a pynnscript.py\n",
    "\n",
    "#input_rect (min_x,max_x,min_y,max_y)\n",
    "input_rect = (0,10,0,10)\n",
    "\n",
    "'''\n",
    "#get data within input_rect\n",
    "x_rows = np.where(np.logical_and(event_data[:,1] >= input_rect[0], event_data[:,1] <= input_rect[1]))\n",
    "y_rows = np.where(np.logical_and(event_data[:,2] >= input_rect[2], event_data[:,2] <= input_rect[3]))\n",
    "rows = np.intersect1d(x_rows,y_rows)\n",
    "event_data = event_data[rows]\n",
    "'''"
   ]
  },
  {
   "cell_type": "code",
   "execution_count": 9,
   "metadata": {
    "collapsed": false
   },
   "outputs": [
    {
     "name": "stdout",
     "output_type": "stream",
     "text": [
      "Appending to pynnscript.py\n"
     ]
    }
   ],
   "source": [
    "%%writefile -a pynnscript.py\n",
    "\n",
    "#remove off events\n",
    "rows = np.where(event_data[:,3] == 0)\n",
    "event_data = event_data[rows]"
   ]
  },
  {
   "cell_type": "code",
   "execution_count": 10,
   "metadata": {
    "collapsed": false
   },
   "outputs": [
    {
     "name": "stdout",
     "output_type": "stream",
     "text": [
      "Appending to pynnscript.py\n"
     ]
    }
   ],
   "source": [
    "%%writefile -a pynnscript.py\n",
    "\n",
    "x_width = input_rect[1] - input_rect[0] + 1\n",
    "y_width = input_rect[3] - input_rect[2] + 1\n",
    "n_inj = x_width * y_width\n",
    "print 'Number of inj {}'.format(n_inj)\n",
    "\n",
    "print 'Length of event_data in s: {}'.format(max(event_data[:,0]))\n",
    "print 'n_nj {}'.format(n_inj)"
   ]
  },
  {
   "cell_type": "code",
   "execution_count": 11,
   "metadata": {
    "collapsed": false
   },
   "outputs": [
    {
     "name": "stdout",
     "output_type": "stream",
     "text": [
      "Appending to pynnscript.py\n"
     ]
    }
   ],
   "source": [
    "%%writefile -a pynnscript.py\n",
    "\n",
    "spike_times = [[] for i in range(n_inj)]\n",
    "\n",
    "for i in range(event_data.shape[0]):\n",
    "    time = int(event_data[i,0] * 1000)\n",
    "    neuron_x = event_data[i,1] - input_rect[0]\n",
    "    neuron_y = event_data[i,2] - input_rect[2]\n",
    "    row_length = input_rect[1] - input_rect[0] + 1\n",
    "    neuron_id = int( row_length * neuron_y + neuron_x)\n",
    "\n",
    "    if(neuron_id < 0):\n",
    "        print \"Neuron Id is too Low\"\n",
    "    elif (neuron_id >= n_inj):\n",
    "        print \"Neuron Id is too High\"\n",
    "    try:\n",
    "        spike_times[neuron_id].append(time)\n",
    "    except Exception as e:\n",
    "        print \"n_id {} spike_times len {} n_x {} n_y {} row_length {}\"(neuron_id, len(spike_times), neuron_x, neuron_y, row_length)\n",
    "        raise e"
   ]
  },
  {
   "cell_type": "code",
   "execution_count": 12,
   "metadata": {
    "collapsed": false
   },
   "outputs": [
    {
     "name": "stdout",
     "output_type": "stream",
     "text": [
      "Appending to pynnscript.py\n"
     ]
    }
   ],
   "source": [
    "%%writefile -a pynnscript.py\n",
    "\n",
    "sconn =0.1 #10% Injector\n",
    "#iicon = 0.1 #10% Inter Inhib\n",
    "\n",
    "t_input_end = int(event_data[event_data.shape[0] - 1][0]) * 1000\n",
    "t_extra_time = 0"
   ]
  },
  {
   "cell_type": "code",
   "execution_count": 13,
   "metadata": {
    "collapsed": false
   },
   "outputs": [
    {
     "name": "stdout",
     "output_type": "stream",
     "text": [
      "Appending to pynnscript.py\n"
     ]
    }
   ],
   "source": [
    "%%writefile -a pynnscript.py\n",
    "\n",
    "# === Define parameters ===\n",
    "\n",
    "threads = 1\n",
    "rngseed = 98766987\n",
    "parallel_safe = True\n",
    "\n",
    "n = 1000          # number of cells\n",
    "r_ei = 4.0        # number of excitatory cells:number of inhibitory cells\n",
    "pconn = 0.01 #changed to 10%      # connection probability\n",
    "stim_dur = 50.    # (ms) duration of random stimulation\n",
    "rate = 100.       # (Hz) frequency of the random stimulation\n",
    "\n",
    "dt = 1.0          # (ms) simulation timestep\n",
    "tstop = t_input_end + t_extra_time      # (ms) simulaton duration\n",
    "delay = 2\n",
    "\n",
    "# Cell parameters\n",
    "area = 20000.     # (µm²)\n",
    "tau_m = 20.       # (ms)\n",
    "cm = 1.           # (µF/cm²)\n",
    "g_leak = 5e-5     # (S/cm²)\n",
    "\n",
    "E_leak = -49.  # (mV)\n",
    "v_thresh = -50.   # (mV)\n",
    "v_reset = -60.    # (mV)\n",
    "t_refrac = 5.     # (ms) (clamped at v_reset)\n",
    "v_mean = -60.     # (mV) mean membrane potential, for calculating CUBA weights\n",
    "tau_exc = 5.      # (ms)\n",
    "tau_inh = 10.     # (ms)\n",
    "\n",
    "# Synapse parameters\n",
    "Gexc = 0.27   # (nS)\n",
    "Ginh = 4.5    # (nS)\n",
    "Erev_exc = 0.     # (mV)\n",
    "Erev_inh = -80.   # (mV)\n",
    "\n",
    "# === Calculate derived parameters ===\n",
    "area = area * 1e-8                     # convert to cm²\n",
    "cm = cm * area * 1000                  # convert to nF\n",
    "Rm = 1e-6 / (g_leak * area)            # membrane resistance in MΩ\n",
    "assert tau_m == cm * Rm                # just to check\n",
    "\n",
    "n_exc = int(round((n * r_ei / (1 + r_ei))))  # number of excitatory cells\n",
    "n_inh = n - n_exc                            # number of inhibitory cells\n",
    "\n",
    "print n_exc, n_inh\n",
    "\n",
    "celltype = p.IF_curr_exp\n",
    "w_exc = 1e-3 * Gexc * (Erev_exc - v_mean)  # (nA) weight of exc synapses\n",
    "w_inh = 1e-3 * Ginh * (Erev_inh - v_mean)  # (nA)\n",
    "assert w_exc > 0\n",
    "assert w_inh < 0"
   ]
  },
  {
   "cell_type": "code",
   "execution_count": 14,
   "metadata": {
    "collapsed": false
   },
   "outputs": [
    {
     "name": "stdout",
     "output_type": "stream",
     "text": [
      "Appending to pynnscript.py\n"
     ]
    }
   ],
   "source": [
    "%%writefile -a pynnscript.py\n",
    "\n",
    "# ===  STDP Synapse parameters\n",
    "\n",
    "##################################\n",
    "# Parameters for the injector population.  This is the minimal set of\n",
    "# parameters required, which is for a set of spikes where the key is not\n",
    "# important.  Note that a virtual key *will* be assigned to the population,\n",
    "# and that spikes sent which do not match this virtual key will be dropped;\n",
    "# however, if spikes are sent using 16-bit keys, they will automatically be\n",
    "# made to match the virtual key.  The virtual key assigned can be obtained\n",
    "# from the database.\n",
    "##################################\n",
    "cell_params_spike_injector = {\n",
    "    # The port on which the spiNNaker machine should listen for packets.\n",
    "    # Packets to be injected should be sent to this port on the spiNNaker\n",
    "    # machine\n",
    "    'port': 12345,\n",
    "}\n",
    "\n",
    "\n",
    "##################################\n",
    "# Parameters for the injector population.  Note that each injector needs to\n",
    "# be given a different port.  The virtual key is assigned here, rather than\n",
    "# being allocated later.  As with the above, spikes injected need to match\n",
    "# this key, and this will be done automatically with 16-bit keys.\n",
    "##################################\n",
    "cell_params_spike_injector_with_key = {\n",
    "\n",
    "    # The port on which the spiNNaker machine should listen for packets.\n",
    "    # Packets to be injected should be sent to this port on the spiNNaker\n",
    "    # machine\n",
    "    'port': 12346,\n",
    "\n",
    "    # This is the base key to be used for the injection, which is used to\n",
    "    # allow the keys to be routed around the spiNNaker machine.  This\n",
    "    # assignment means that 32-bit keys must have the high-order 16-bit\n",
    "    # set to 0x7; This will automatically be prepended to 16-bit keys.\n",
    "    'virtual_key': 0x70000,\n",
    "}"
   ]
  },
  {
   "cell_type": "code",
   "execution_count": 15,
   "metadata": {
    "collapsed": false
   },
   "outputs": [
    {
     "name": "stdout",
     "output_type": "stream",
     "text": [
      "Appending to pynnscript.py\n"
     ]
    }
   ],
   "source": [
    "%%writefile -a pynnscript.py\n",
    "\n",
    "# === Build the network ===\n",
    "\n",
    "benchmark = 'blah'\n",
    "\n",
    "extra = {'threads': threads,\n",
    "         'filename': \"va_%s.xml\" % benchmark,\n",
    "         'label': 'VA'}\n",
    "\n",
    "node_id = p.setup(\n",
    "    timestep=dt, min_delay=delay, max_delay=delay,\n",
    "    db_name='va_benchmark.sqlite', **extra)\n",
    "\n",
    "p.set_number_of_neurons_per_core(p.IF_curr_exp, 100)      # this will set\n",
    "#  100 neurons per core\n",
    "#np = 1\n",
    "\n",
    "host_name = socket.gethostname()\n",
    "print \"Host #%d is on %s\" % (1, host_name)\n",
    "\n",
    "print \"%s Initialising the simulator with %d thread(s)...\" % (\n",
    "    node_id, extra['threads'])\n",
    "\n",
    "cell_params = {'tau_m': tau_m,\n",
    "               'tau_syn_E': tau_exc,\n",
    "               'tau_syn_I': tau_inh,\n",
    "               'v_rest': E_leak,\n",
    "               'v_reset': v_reset,\n",
    "               'v_thresh': v_thresh,\n",
    "               'cm': cm,\n",
    "               'tau_refrac': t_refrac,\n",
    "               'i_offset': 0\n",
    "               }\n",
    "\n",
    "print cell_params"
   ]
  },
  {
   "cell_type": "code",
   "execution_count": 16,
   "metadata": {
    "collapsed": false
   },
   "outputs": [
    {
     "name": "stdout",
     "output_type": "stream",
     "text": [
      "Appending to pynnscript.py\n"
     ]
    }
   ],
   "source": [
    "%%writefile -a pynnscript.py\n",
    "\n",
    "print \"%s Creating cell populations...\" % node_id\n",
    "exc_cells = p.Population(\n",
    "    n_exc, celltype(**cell_params), label=\"Excitatory_Cells\")\n",
    "inh_cells = p.Population(\n",
    "    n_inh, celltype(**cell_params), label=\"Inhibitory_Cells\")\n",
    "\n",
    "pops = []\n",
    "inj_cells = p.Population(n_inj, p.SpikeSourceArray, {'spike_times': spike_times}, label='spike_injector')"
   ]
  },
  {
   "cell_type": "code",
   "execution_count": 17,
   "metadata": {
    "collapsed": false
   },
   "outputs": [
    {
     "name": "stdout",
     "output_type": "stream",
     "text": [
      "Appending to pynnscript.py\n"
     ]
    }
   ],
   "source": [
    "%%writefile -a pynnscript.py\n",
    "\n",
    "print \"%s Initialising membrane potential to random values...\" % node_id\n",
    "rng = NumpyRNG(seed=rngseed, parallel_safe=parallel_safe)\n",
    "uniformDistr = RandomDistribution('uniform', [v_reset, v_thresh], rng=rng)\n",
    "exc_cells.set(v=uniformDistr)\n",
    "inh_cells.set(v=uniformDistr)\n",
    "\n",
    "#inj_cells.set(v=uniformDistr)\n",
    "\n",
    "pops.append(exc_cells)\n",
    "pops.append(inh_cells)\n",
    "pops.append(inj_cells)"
   ]
  },
  {
   "cell_type": "code",
   "execution_count": 18,
   "metadata": {
    "collapsed": false
   },
   "outputs": [
    {
     "name": "stdout",
     "output_type": "stream",
     "text": [
      "Appending to pynnscript.py\n"
     ]
    }
   ],
   "source": [
    "%%writefile -a pynnscript.py\n",
    "\n",
    "print \"%s Connecting populations...\" % node_id\n",
    "exc_conn = p.FixedProbabilityConnector(pconn, rng=rng)\n",
    "inh_conn = p.FixedProbabilityConnector(pconn, rng=rng)\n",
    "\n",
    "#inter_inh_con = p.FixedProbabilityConnector(iiconn, rng=rng)\n",
    "#inj_conn = p.FixedProbabilityConnector(sconn, rng=rng)\n",
    "\n",
    "inj_exc_cons = int(sconn * n_exc) \n",
    "inj_exc = []\n",
    "for inj_ind in range(n_inj):\n",
    "    exc_list = random.sample(range(0, n_exc - 1), inj_exc_cons)\n",
    "    for exc_ind in exc_list:\n",
    "        inj_exc.append((inj_ind, exc_ind))\n",
    "inj_conn = p.FromListConnector(inj_exc)\n",
    "\n"
   ]
  },
  {
   "cell_type": "code",
   "execution_count": 19,
   "metadata": {
    "collapsed": false
   },
   "outputs": [
    {
     "name": "stdout",
     "output_type": "stream",
     "text": [
      "Appending to pynnscript.py\n"
     ]
    }
   ],
   "source": [
    "%%writefile -a pynnscript.py\n",
    "\n",
    "w_inj = [random.random() for i in range(len(inj_exc))]\n",
    "timing_rule = p.SpikePairRule(tau_plus=20.0, tau_minus=20.0, A_plus=0.5, A_minus=0.5)\n",
    "weight_rule = p.AdditiveWeightDependence(w_max=2.0, w_min=0.0)\n",
    "stdp_model = p.STDPMechanism(timing_dependence=timing_rule,\n",
    "                             weight_dependence=weight_rule, weight=w_inj, delay=5.0)"
   ]
  },
  {
   "cell_type": "code",
   "execution_count": 20,
   "metadata": {
    "collapsed": false
   },
   "outputs": [
    {
     "name": "stdout",
     "output_type": "stream",
     "text": [
      "Appending to pynnscript.py\n"
     ]
    }
   ],
   "source": [
    "%%writefile -a pynnscript.py\n",
    "\n",
    "connections = {\n",
    "    'e2e': p.Projection(\n",
    "        exc_cells, exc_cells, exc_conn, receptor_type='excitatory',\n",
    "        synapse_type=p.StaticSynapse(weight=w_exc, delay=delay)),\n",
    "    'e2i': p.Projection(\n",
    "        exc_cells, inh_cells, exc_conn, receptor_type='excitatory',\n",
    "        synapse_type=p.StaticSynapse(weight=w_exc, delay=delay)),\n",
    "    'i2e': p.Projection(\n",
    "        inh_cells, exc_cells, inh_conn, receptor_type='inhibitory',\n",
    "        synapse_type=p.StaticSynapse(weight=w_inh, delay=delay)),\n",
    "    'i2i': p.Projection(\n",
    "        inh_cells, inh_cells, inh_conn, receptor_type='inhibitory',\n",
    "        synapse_type=p.StaticSynapse(weight=w_inh, delay=delay)),\n",
    "    's2e': p.Projection(\n",
    "        inj_cells, exc_cells, inj_conn, receptor_type='excitatory',\n",
    "        synapse_type=stdp_model)}"
   ]
  },
  {
   "cell_type": "code",
   "execution_count": 21,
   "metadata": {
    "collapsed": false
   },
   "outputs": [
    {
     "name": "stdout",
     "output_type": "stream",
     "text": [
      "Appending to pynnscript.py\n"
     ]
    }
   ],
   "source": [
    "%%writefile -a pynnscript.py\n",
    "\n",
    "# Set up the live connection for sending spikes\n",
    "live_spikes_connection_send = \\\n",
    "    p.external_devices.SpynnakerLiveSpikesConnection(receive_labels=None, local_port=19999,send_labels=[\"spike_injector\"])"
   ]
  },
  {
   "cell_type": "code",
   "execution_count": 22,
   "metadata": {
    "collapsed": false
   },
   "outputs": [
    {
     "name": "stdout",
     "output_type": "stream",
     "text": [
      "Appending to pynnscript.py\n"
     ]
    }
   ],
   "source": [
    "%%writefile -a pynnscript.py\n",
    "\n",
    "# === Setup recording ===\n",
    "print \"%s Setting up recording...\" % node_id\n",
    "#exc_cells.record(\"spikes\")\n",
    "for pop in pops:\n",
    "    pop.record(\"spikes\")"
   ]
  },
  {
   "cell_type": "code",
   "execution_count": 23,
   "metadata": {
    "collapsed": false
   },
   "outputs": [
    {
     "name": "stdout",
     "output_type": "stream",
     "text": [
      "Appending to pynnscript.py\n"
     ]
    }
   ],
   "source": [
    "%%writefile -a pynnscript.py\n",
    "\n",
    "# === Run simulation ===\n",
    "print \"%d Running simulation...\" % node_id\n",
    "\n",
    "\n",
    "p.run(tstop)"
   ]
  },
  {
   "cell_type": "code",
   "execution_count": 24,
   "metadata": {
    "collapsed": false
   },
   "outputs": [
    {
     "name": "stdout",
     "output_type": "stream",
     "text": [
      "Appending to pynnscript.py\n"
     ]
    }
   ],
   "source": [
    "%%writefile -a pynnscript.py\n",
    "\n",
    "# === Print results to file ===\n",
    "results_dir = os.getcwd() + '/results/'\n",
    "if not os.path.exists(results_dir):\n",
    "    os.makedirs(results_dir)\n",
    "\n",
    "pop_labels = ['exc', 'inh', 'inj']\n",
    "\n",
    "for i in range(len(pops)):\n",
    "    plt.figure()\n",
    "    f, ax = plt.subplots()\n",
    "\n",
    "    pop_spikes = pops[i].get_data(\"spikes\")\n",
    "    spiketrains = pop_spikes.segments[0].spiketrains\n",
    "\n",
    "    neurons = np.concatenate(map(lambda x:\n",
    "                                    np.repeat(x.annotations['source_index'],\n",
    "                                                               len(x)),\n",
    "                                                   spiketrains))\n",
    "    spike_times = np.concatenate(spiketrains, axis=0)\n",
    "    ax.set_title('Spikes for Pop ' + pop_labels[i])  \n",
    "    ax.plot(spike_times, neurons, 'o', ms=0.1)\n",
    "    ax.set_ylabel('Neuron id')\n",
    "    ax.set_xlabel('Time/ms')\n",
    "\n",
    "    plt.savefig(results_dir +\n",
    "              datetime.datetime.now().strftime(\"%Y-%m-%d%H:%M:%S\") + ' ' +\n",
    "              pop_labels[i] + '.png')\n",
    "\n",
    "    with open(results_dir + datetime.datetime.now().strftime(\"%Y-%m-%d %H:%M:%S\") +\n",
    "              ' ' + pop_labels[i] + '.csv', 'w') as f:\n",
    "        f.write('Time/ms,NeuronID\\n')\n",
    "        for i in range(neurons.shape[0]):\n",
    "            line = '{},{}'.format(spike_times[i], neurons[i])\n",
    "            f.write(line + '\\n')\n",
    "\n",
    "\n",
    "shape = (input_rect[1] - input_rect[0] + 1, input_rect[3] - input_rect[2] + 1)\n",
    "\n",
    "s2e_weights = connections.get('s2e').getWeights()\n",
    "np_after_weights = np.array(s2e_weights)\n",
    "np_init_weights = np.array(w_inj)\n",
    "np_tot_weights = np_after_weights - np_init_weights\n",
    "\n",
    "\n",
    "np_inj_exc = np.array(inj_exc)\n",
    "\n",
    "weights_with_input = []\n",
    "with open(results_dir + datetime.datetime.now().strftime(\"%Y-%m-%d %H:%M:%S\") +\n",
    "          ' weights' + '.csv', 'w') as f:\n",
    "    f.write('inj_n_id,exc_n_id,x,y,weights \\n')\n",
    "    for i in range(shape[0] * shape[1]):\n",
    "        rows = np.where(np_inj_exc[:,0] == i)\n",
    "        weights = np_tot_weights[rows]\n",
    "        avg = np.average(weights)\n",
    "        weights_with_input.append(avg)\n",
    "\n",
    "        w_x = i % shape[0]\n",
    "        w_y = int(i / shape[1])\n",
    "        \n",
    "        inds = np_inj_exc[rows]\n",
    "        \n",
    "        for j in range(inds.shape[0]):\n",
    "            inj_n_id = inds[j,0]\n",
    "            exc_n_id = inds[j,1]\n",
    "            w = np_tot_weights[j]\n",
    "            f.write('{},{},{},{},{} \\n'.format(str(inj_n_id), str(exc_n_id),\n",
    "                                           str(w_x), str(w_y), str(w)))\n",
    "\n",
    "np_weights = np.array(weights_with_input).reshape(shape)\n",
    "\n",
    "plt.figure()\n",
    "plt.imshow(np_weights, cmap='Reds', interpolation='nearest')\n",
    "plt.title('')\n",
    "plt.ylabel('Y')\n",
    "plt.xlabel('X')\n",
    "plt.colorbar()\n",
    "plt.savefig(results_dir + datetime.datetime.now().strftime(\"%Y-%m-%d %H:%M:%S\") + ' weights' + '.png')"
   ]
  },
  {
   "cell_type": "code",
   "execution_count": 25,
   "metadata": {
    "collapsed": false
   },
   "outputs": [
    {
     "name": "stdout",
     "output_type": "stream",
     "text": [
      "Appending to pynnscript.py\n"
     ]
    }
   ],
   "source": [
    "%%writefile -a pynnscript.py\n",
    "\n",
    "# === Finished with simulator ===\n",
    "\n",
    "p.end()"
   ]
  },
  {
   "cell_type": "markdown",
   "metadata": {},
   "source": [
    "Based on 'https://github.com/SpiNNakerManchester/PyNN7Examples/blob/master/examples/external_devices_examples/live_examples/spike_io.py'"
   ]
  },
  {
   "cell_type": "code",
   "execution_count": 26,
   "metadata": {
    "collapsed": true
   },
   "outputs": [],
   "source": [
    "%pycat pynnscript.py"
   ]
  },
  {
   "cell_type": "code",
   "execution_count": 37,
   "metadata": {
    "collapsed": false
   },
   "outputs": [
    {
     "name": "stdout",
     "output_type": "stream",
     "text": [
      "Job submitted\n"
     ]
    }
   ],
   "source": [
    "job_path = client.submit_job(source='pynnscript.py',\n",
    "                              platform=nmpi.SPINNAKER,\n",
    "                              collab_id=aistate_collab_id,\n",
    "                              config={},\n",
    "                             inputs=['simulate_events_11x11.txt'],\n",
    "                              command=\"run.py {system}\")\n"
   ]
  },
  {
   "cell_type": "code",
   "execution_count": 38,
   "metadata": {
    "collapsed": true
   },
   "outputs": [],
   "source": [
    "job_id = job_path.split('/')[-1]"
   ]
  },
  {
   "cell_type": "code",
   "execution_count": 39,
   "metadata": {
    "collapsed": false
   },
   "outputs": [
    {
     "data": {
      "text/plain": [
       "u'submitted'"
      ]
     },
     "execution_count": 39,
     "metadata": {},
     "output_type": "execute_result"
    }
   ],
   "source": [
    "# execute this line until it says 'finished'\n",
    "client.job_status(job_id)"
   ]
  },
  {
   "cell_type": "code",
   "execution_count": 40,
   "metadata": {
    "collapsed": false
   },
   "outputs": [],
   "source": [
    "ret = client.get_job(job_id, with_log=True)"
   ]
  },
  {
   "cell_type": "code",
   "execution_count": 41,
   "metadata": {
    "collapsed": false
   },
   "outputs": [
    {
     "name": "stdout",
     "output_type": "stream",
     "text": [
      "Error:\n",
      "java.lang.Exception: no protocol: simulate_events_11x11.txt\n",
      "\tat java.net.URL.<init>(URL.java:593)\n",
      "\tat java.net.URL.<init>(URL.java:490)\n",
      "\tat java.net.URL.<init>(URL.java:439)\n",
      "\tat uk.ac.manchester.cs.spinnaker.utils.FileDownloader.downloadFile(FileDownloader.java:157)\n",
      "\tat uk.ac.manchester.cs.spinnaker.jobprocessmanager.JobProcessManager.getJobParameters(JobProcessManager.java:281)\n",
      "\tat uk.ac.manchester.cs.spinnaker.jobprocessmanager.JobProcessManager.runJob(JobProcessManager.java:141)\n",
      "\tat uk.ac.manchester.cs.spinnaker.jobprocessmanager.JobProcessManager.main(JobProcessManager.java:235)\n",
      "\n"
     ]
    }
   ],
   "source": [
    "print(ret['log'])"
   ]
  },
  {
   "cell_type": "code",
   "execution_count": null,
   "metadata": {
    "collapsed": true
   },
   "outputs": [],
   "source": []
  }
 ],
 "metadata": {
  "kernelspec": {
   "display_name": "Python 2",
   "language": "python",
   "name": "python2"
  },
  "language_info": {
   "codemirror_mode": {
    "name": "ipython",
    "version": 2
   },
   "file_extension": ".py",
   "mimetype": "text/x-python",
   "name": "python",
   "nbconvert_exporter": "python",
   "pygments_lexer": "ipython2",
   "version": "2.7.13"
  }
 },
 "nbformat": 4,
 "nbformat_minor": 2
}
