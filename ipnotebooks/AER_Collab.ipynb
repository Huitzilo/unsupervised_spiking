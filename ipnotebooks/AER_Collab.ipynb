{
 "cells": [
  {
   "cell_type": "code",
   "execution_count": null,
   "metadata": {},
   "outputs": [],
   "source": [
    "!conda create -n aer_collab numpy pip matplotlib jupyter"
   ]
  },
  {
   "cell_type": "code",
   "execution_count": null,
   "metadata": {},
   "outputs": [],
   "source": [
    "!source activate aer_collab"
   ]
  },
  {
   "cell_type": "code",
   "execution_count": null,
   "metadata": {
    "scrolled": true
   },
   "outputs": [],
   "source": [
    "!pip install -U hbp_neuromorphic_platform"
   ]
  },
  {
   "cell_type": "code",
   "execution_count": null,
   "metadata": {},
   "outputs": [],
   "source": [
    "import nmpi\n",
    "client = nmpi.Client(\"sesutton\")\n",
    "print(client.my_collabs().keys())"
   ]
  },
  {
   "cell_type": "code",
   "execution_count": null,
   "metadata": {},
   "outputs": [],
   "source": [
    "aistate_collab_id = client.my_collabs()['UH AI state']['id']"
   ]
  },
  {
   "cell_type": "code",
   "execution_count": null,
   "metadata": {},
   "outputs": [],
   "source": [
    "!wget http://rpg.ifi.uzh.ch/datasets/davis/office_zigzag.zip"
   ]
  },
  {
   "cell_type": "code",
   "execution_count": null,
   "metadata": {},
   "outputs": [],
   "source": [
    "!unzip office_zigzag.zip -d office_zigzag/\n",
    "!rm office_zigzag.zip\n",
    "!cp office_zigzag/events.txt .\n",
    "!rm -r office_zigzag/"
   ]
  },
  {
   "cell_type": "code",
   "execution_count": null,
   "metadata": {},
   "outputs": [],
   "source": [
    "import numpy as np\n",
    "\n",
    "fname = 'events.txt'\n",
    "dt = np.dtype([('time', float), ('x',int), ('y', int) ,('polarity', int)])\n",
    "event_data = np.loadtxt(fname, dtype=dt)"
   ]
  },
  {
   "cell_type": "code",
   "execution_count": null,
   "metadata": {},
   "outputs": [],
   "source": [
    "print event_data.shape\n",
    "x_rows = np.where(event_data[:,1] <= 10)\n",
    "print x_rows\n",
    "y_rows = np.where(event_data[:][1] <= 10)\n",
    "rows = np.intersect1d(x_rows,y_rows)\n",
    "event_data = event_data[rows]\n",
    "print event_data.shape"
   ]
  },
  {
   "cell_type": "markdown",
   "metadata": {},
   "source": [
    "Based on 'https://github.com/SpiNNakerManchester/PyNN7Examples/blob/master/examples/external_devices_examples/live_examples/spike_io.py'"
   ]
  },
  {
   "cell_type": "code",
   "execution_count": null,
   "metadata": {},
   "outputs": [],
   "source": [
    "%%writefile pynnscript.py\n",
    "import spynnaker7.pyNN as Frontend\n",
    "import time\n",
    "from threading import Condition\n",
    "\n",
    "# initial call to set up the front end (pynn requirement)\n",
    "Frontend.setup(timestep=1.0, min_delay=1.0, max_delay=144.0)"
   ]
  },
  {
   "cell_type": "code",
   "execution_count": null,
   "metadata": {},
   "outputs": [],
   "source": [
    "%%writefile -a pynnscript.py\n",
    "\n",
    "# neurons per population and the length of runtime in ms for the simulation,\n",
    "# as well as the expected weight each spike will contain\n",
    "n_neurons = 100\n",
    "run_time = 8000\n",
    "weight_to_spike = 2.0"
   ]
  },
  {
   "cell_type": "code",
   "execution_count": null,
   "metadata": {},
   "outputs": [],
   "source": [
    "%%writefile -a pynnscript.py\n",
    "# neural parameters of the ifcur model used to respond to injected spikes.\n",
    "# (cell params for a synfire chain)\n",
    "cell_params_lif = {'cm': 0.25,\n",
    "                   'i_offset': 0.0,\n",
    "                   'tau_m': 20.0,\n",
    "                   'tau_refrac': 2.0,\n",
    "                   'tau_syn_E': 5.0,\n",
    "                   'tau_syn_I': 5.0,\n",
    "                   'v_reset': -70.0,\n",
    "                   'v_rest': -65.0,\n",
    "                   'v_thresh': -50.0\n",
    "                   }\n",
    "\n",
    "##################################\n",
    "# Parameters for the injector population.  This is the minimal set of\n",
    "# parameters required, which is for a set of spikes where the key is not\n",
    "# important.  Note that a virtual key *will* be assigned to the population,\n",
    "# and that spikes sent which do not match this virtual key will be dropped;\n",
    "# however, if spikes are sent using 16-bit keys, they will automatically be\n",
    "# made to match the virtual key.  The virtual key assigned can be obtained\n",
    "# from the database.\n",
    "##################################\n",
    "cell_params_spike_injector = {\n",
    "    # The port on which the spiNNaker machine should listen for packets.\n",
    "    # Packets to be injected should be sent to this port on the spiNNaker\n",
    "    # machine\n",
    "    'port': 12345,\n",
    "}\n",
    "\n",
    "\n",
    "##################################\n",
    "# Parameters for the injector population.  Note that each injector needs to\n",
    "# be given a different port.  The virtual key is assigned here, rather than\n",
    "# being allocated later.  As with the above, spikes injected need to match\n",
    "# this key, and this will be done automatically with 16-bit keys.\n",
    "##################################\n",
    "cell_params_spike_injector_with_key = {\n",
    "\n",
    "    # The port on which the spiNNaker machine should listen for packets.\n",
    "    # Packets to be injected should be sent to this port on the spiNNaker\n",
    "    # machine\n",
    "    'port': 12346,\n",
    "\n",
    "    # This is the base key to be used for the injection, which is used to\n",
    "    # allow the keys to be routed around the spiNNaker machine.  This\n",
    "    # assignment means that 32-bit keys must have the high-order 16-bit\n",
    "    # set to 0x7; This will automatically be prepended to 16-bit keys.\n",
    "    'virtual_key': 0x70000,\n",
    "}"
   ]
  },
  {
   "cell_type": "code",
   "execution_count": null,
   "metadata": {},
   "outputs": [],
   "source": [
    "%%writefile -a pynnscript.py\n",
    "# create synfire populations (if cur exp)\n",
    "pop_forward = Frontend.Population(n_neurons, Frontend.IF_curr_exp,\n",
    "                                  cell_params_lif, label='pop_forward')\n",
    "pop_backward = Frontend.Population(n_neurons, Frontend.IF_curr_exp,\n",
    "                                   cell_params_lif, label='pop_backward')\n",
    "\n",
    "# Create injection populations\n",
    "injector_forward = Frontend.Population(\n",
    "    n_neurons, Frontend.external_devices.SpikeInjector,\n",
    "    cell_params_spike_injector_with_key, label='spike_injector_forward')\n",
    "injector_backward = Frontend.Population(\n",
    "    n_neurons, Frontend.external_devices.SpikeInjector,\n",
    "    cell_params_spike_injector, label='spike_injector_backward')"
   ]
  },
  {
   "cell_type": "code",
   "execution_count": null,
   "metadata": {},
   "outputs": [],
   "source": [
    "%%writefile -a pynnscript.py\n",
    "# Create a connection from the injector into the populations\n",
    "Frontend.Projection(injector_forward, pop_forward,\n",
    "                    Frontend.OneToOneConnector(weights=weight_to_spike))\n",
    "Frontend.Projection(injector_backward, pop_backward,\n",
    "                    Frontend.OneToOneConnector(weights=weight_to_spike))\n",
    "\n",
    "# Synfire chain connections where each neuron is connected to its next neuron\n",
    "# NOTE: there is no recurrent connection so that each chain stops once it\n",
    "# reaches the end\n",
    "loop_forward = list()\n",
    "loop_backward = list()\n",
    "for i in range(0, n_neurons - 1):\n",
    "    loop_forward.append((i, (i + 1) % n_neurons, weight_to_spike, 3))\n",
    "    loop_backward.append(((i + 1) % n_neurons, i, weight_to_spike, 3))\n",
    "Frontend.Projection(pop_forward, pop_forward,\n",
    "                    Frontend.FromListConnector(loop_forward))\n",
    "Frontend.Projection(pop_backward, pop_backward,\n",
    "                    Frontend.FromListConnector(loop_backward))"
   ]
  },
  {
   "cell_type": "code",
   "execution_count": null,
   "metadata": {},
   "outputs": [],
   "source": [
    "%%writefile -a pynnscript.py\n",
    "# record spikes from the synfire chains so that we can read off valid results\n",
    "# in a safe way afterwards, and verify the behavior\n",
    "pop_forward.record()\n",
    "pop_backward.record()"
   ]
  },
  {
   "cell_type": "code",
   "execution_count": null,
   "metadata": {},
   "outputs": [],
   "source": [
    "%%writefile -a pynnscript.py\n",
    "# Activate the sending of live spikes\n",
    "Frontend.external_devices.activate_live_output_for(\n",
    "    pop_forward, database_notify_host=\"localhost\",\n",
    "    database_notify_port_num=19996)\n",
    "Frontend.external_devices.activate_live_output_for(\n",
    "    pop_backward, database_notify_host=\"localhost\",\n",
    "    database_notify_port_num=19996)"
   ]
  },
  {
   "cell_type": "code",
   "execution_count": null,
   "metadata": {},
   "outputs": [],
   "source": [
    "%%writefile -a pynnscript.py\n",
    "# Create a condition to avoid overlapping prints\n",
    "print_condition = Condition()"
   ]
  },
  {
   "cell_type": "code",
   "execution_count": null,
   "metadata": {},
   "outputs": [],
   "source": [
    "%%writefile -a pynnscript.py\n",
    "# Create an initialisation method\n",
    "def init_pop(label, n_neurons, run_time_ms, machine_timestep_ms):\n",
    "    print \"{} has {} neurons\".format(label, n_neurons)\n",
    "    print \"Simulation will run for {}ms at {}ms timesteps\".format(\n",
    "        run_time_ms, machine_timestep_ms)"
   ]
  },
  {
   "cell_type": "code",
   "execution_count": null,
   "metadata": {},
   "outputs": [],
   "source": [
    "%%writefile -a pynnscript.py\n",
    "# Create a sender of packets for the forward population\n",
    "def send_input_forward(label, sender):\n",
    "    for neuron_id in range(0, 100, 20):\n",
    "        time.sleep(random.random() + 0.5)\n",
    "        print_condition.acquire()\n",
    "        print \"Sending forward spike\", neuron_id\n",
    "        print_condition.release()\n",
    "        sender.send_spike(label, neuron_id, send_full_keys=True)"
   ]
  },
  {
   "cell_type": "code",
   "execution_count": null,
   "metadata": {},
   "outputs": [],
   "source": [
    "%%writefile -a pynnscript.py\n",
    "# Create a sender of packets for the backward population\n",
    "def send_input_backward(label, sender):\n",
    "    for neuron_id in range(0, 100, 20):\n",
    "        real_id = 100 - neuron_id - 1\n",
    "        time.sleep(random.random() + 0.5)\n",
    "        print_condition.acquire()\n",
    "        print \"Sending backward spike\", real_id\n",
    "        print_condition.release()\n",
    "        sender.send_spike(label, real_id)"
   ]
  },
  {
   "cell_type": "code",
   "execution_count": null,
   "metadata": {},
   "outputs": [],
   "source": [
    "%%writefile -a pynnscript.py\n",
    "# Create a receiver of live spikes\n",
    "def receive_spikes(label, time, neuron_ids):\n",
    "    for neuron_id in neuron_ids:\n",
    "        print_condition.acquire()\n",
    "        print \"Received spike at time\", time, \"from\", label, \"-\", neuron_id\n",
    "        print_condition.release()"
   ]
  },
  {
   "cell_type": "code",
   "execution_count": null,
   "metadata": {},
   "outputs": [],
   "source": [
    "%%writefile -a pynnscript.py\n",
    "# Set up the live connection for sending spikes\n",
    "live_spikes_connection_send = \\\n",
    "    Frontend.external_devices.SpynnakerLiveSpikesConnection(\n",
    "        receive_labels=None, local_port=19999,\n",
    "        send_labels=[\"spike_injector_forward\", \"spike_injector_backward\"])\n",
    "\n",
    "# Set up callbacks to occur at initialisation\n",
    "live_spikes_connection_send.add_init_callback(\n",
    "    \"spike_injector_forward\", init_pop)\n",
    "live_spikes_connection_send.add_init_callback(\n",
    "    \"spike_injector_backward\", init_pop)\n",
    "\n",
    "# Set up callbacks to occur at the start of simulation\n",
    "live_spikes_connection_send.add_start_callback(\n",
    "    \"spike_injector_forward\", send_input_forward)\n",
    "live_spikes_connection_send.add_start_callback(\n",
    "    \"spike_injector_backward\", send_input_backward)"
   ]
  },
  {
   "cell_type": "code",
   "execution_count": null,
   "metadata": {},
   "outputs": [],
   "source": [
    "%%writefile -a pynnscript.py\n",
    "# if not using the c visualiser, then a new spynnaker live spikes\n",
    "# connection is created to define that there is a python function which\n",
    "# receives the spikes.\n",
    "live_spikes_connection_receive = \\\n",
    "    Frontend.external_devices.SpynnakerLiveSpikesConnection(\n",
    "        receive_labels=[\"pop_forward\", \"pop_backward\"],\n",
    "        local_port=19996, send_labels=None)\n",
    "\n",
    "# Set up callbacks to occur when spikes are received\n",
    "live_spikes_connection_receive.add_receive_callback(\n",
    "    \"pop_forward\", receive_spikes)\n",
    "live_spikes_connection_receive.add_receive_callback(\n",
    "    \"pop_backward\", receive_spikes)"
   ]
  },
  {
   "cell_type": "code",
   "execution_count": null,
   "metadata": {},
   "outputs": [],
   "source": [
    "%%writefile -a pynnscript.py\n",
    "# Run the simulation on spiNNaker\n",
    "Frontend.run(run_time)\n",
    "\n",
    "# Retrieve spikes from the synfire chain population\n",
    "spikes_forward = pop_forward.getSpikes()\n",
    "spikes_backward = pop_backward.getSpikes()\n",
    "\n",
    "# If there are spikes, plot using matplotlib\n",
    "if len(spikes_forward) != 0 or len(spikes_backward) != 0:\n",
    "    pylab.figure()\n",
    "    if len(spikes_forward) != 0:\n",
    "        pylab.plot([i[1] for i in spikes_forward],\n",
    "                   [i[0] for i in spikes_forward], \"b.\")\n",
    "    if len(spikes_backward) != 0:\n",
    "        pylab.plot([i[1] for i in spikes_backward],\n",
    "                   [i[0] for i in spikes_backward], \"r.\")\n",
    "    pylab.ylabel('neuron id')\n",
    "    pylab.xlabel('Time/ms')\n",
    "    pylab.title('spikes')\n",
    "    pylab.show()\n",
    "else:\n",
    "    print \"No spikes received\"\n",
    "\n",
    "# Clear data structures on spiNNaker to leave the machine in a clean state for\n",
    "# future executions\n",
    "Frontend.end()"
   ]
  },
  {
   "cell_type": "code",
   "execution_count": null,
   "metadata": {},
   "outputs": [],
   "source": [
    "%pycat pynnscript.py"
   ]
  },
  {
   "cell_type": "code",
   "execution_count": null,
   "metadata": {},
   "outputs": [],
   "source": [
    "job_path = client.submit_job(source='pynnscript.py',\n",
    "                      platform=nmpi.SPINNAKER,\n",
    "                      collab_id=aistate_collab_id,\n",
    "                      config={},\n",
    "                      command=\"run.py\")\n"
   ]
  },
  {
   "cell_type": "code",
   "execution_count": null,
   "metadata": {},
   "outputs": [],
   "source": [
    "job_id = job_path.split('/')[-1]"
   ]
  },
  {
   "cell_type": "code",
   "execution_count": null,
   "metadata": {},
   "outputs": [],
   "source": [
    "# execute this line until it says 'finished'\n",
    "client.job_status(job_id)"
   ]
  },
  {
   "cell_type": "code",
   "execution_count": null,
   "metadata": {},
   "outputs": [],
   "source": [
    "ret = client.get_job(job_id, with_log=True)"
   ]
  },
  {
   "cell_type": "code",
   "execution_count": null,
   "metadata": {},
   "outputs": [],
   "source": [
    "print(ret['log'])"
   ]
  },
  {
   "cell_type": "code",
   "execution_count": null,
   "metadata": {},
   "outputs": [],
   "source": []
  }
 ],
 "metadata": {
  "kernelspec": {
   "display_name": "Python 2",
   "language": "python",
   "name": "python2"
  },
  "language_info": {
   "codemirror_mode": {
    "name": "ipython",
    "version": 2
   },
   "file_extension": ".py",
   "mimetype": "text/x-python",
   "name": "python",
   "nbconvert_exporter": "python",
   "pygments_lexer": "ipython2",
   "version": "2.7.14"
  }
 },
 "nbformat": 4,
 "nbformat_minor": 2
}
