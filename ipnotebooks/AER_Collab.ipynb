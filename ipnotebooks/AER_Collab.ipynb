{
 "cells": [
  {
   "cell_type": "code",
   "execution_count": null,
   "metadata": {
    "collapsed": true
   },
   "outputs": [],
   "source": [
    "!conda create -n aer_collab numpy pip matplotlib jupyter"
   ]
  },
  {
   "cell_type": "code",
   "execution_count": null,
   "metadata": {
    "collapsed": true
   },
   "outputs": [],
   "source": [
    "!source activate aer_collab"
   ]
  },
  {
   "cell_type": "code",
   "execution_count": null,
   "metadata": {
    "collapsed": true,
    "scrolled": true
   },
   "outputs": [],
   "source": [
    "!pip install -U hbp_neuromorphic_platform"
   ]
  },
  {
   "cell_type": "code",
   "execution_count": null,
   "metadata": {
    "collapsed": true
   },
   "outputs": [],
   "source": [
    "import nmpi\n",
    "client = nmpi.Client(\"sesutton\")\n",
    "print(client.my_collabs().keys())"
   ]
  },
  {
   "cell_type": "code",
   "execution_count": null,
   "metadata": {
    "collapsed": true
   },
   "outputs": [],
   "source": [
    "aistate_collab_id = client.my_collabs()['UH AI state']['id']"
   ]
  },
  {
   "cell_type": "code",
   "execution_count": null,
   "metadata": {
    "collapsed": true
   },
   "outputs": [],
   "source": [
    "!wget http://rpg.ifi.uzh.ch/datasets/davis/office_zigzag.zip"
   ]
  },
  {
   "cell_type": "code",
   "execution_count": null,
   "metadata": {
    "collapsed": true
   },
   "outputs": [],
   "source": [
    "!unzip office_zigzag.zip -d office_zigzag/\n",
    "!rm office_zigzag.zip\n",
    "!cp office_zigzag/events.txt .\n",
    "!rm -r office_zigzag/"
   ]
  },
  {
   "cell_type": "code",
   "execution_count": null,
   "metadata": {
    "collapsed": true
   },
   "outputs": [],
   "source": [
    "%%writefile pynnscript.py\n",
    "\n",
    "import os\n",
    "import urllib\n",
    "import zipfile\n",
    "\n",
    "directory = os.getcwd() + '/data/'\n",
    "if not os.path.exists(directory):\n",
    "    os.makedirs(directory)\n",
    "\n",
    "url = 'http://rpg.ifi.uzh.ch/datasets/davis/office_zigzag.zip'\n",
    "zipfn = 'data.zip'\n",
    "\n",
    "urllib.urlretrieve(url, zipfn)\n",
    "with zipfile.ZipFile( os.getcwd() + '/' + zipfn, \"r\") as z: \n",
    "    z.extractall(directory)\n",
    "\n",
    "import numpy as np\n",
    "\n",
    "fname = directory + 'events.txt'\n",
    "#dt = np.dtype([('time', float), ('x',int), ('y', int) ,('polarity', int)])\n",
    "event_data = np.genfromtxt(fname,delimiter=' ')\n",
    "\n",
    "import shutil\n",
    "shutil.rmtree(directory)\n",
    "os.remove(zipfn)"
   ]
  },
  {
   "cell_type": "code",
   "execution_count": null,
   "metadata": {
    "collapsed": true
   },
   "outputs": [],
   "source": [
    "%%writefile -a pynnscript.py\n",
    "\n",
    "#input_rect (min_x,max_x,min_y,max_y)\n",
    "input_rect = (0,10,0,10)\n",
    "\n",
    "#get data within input_rect\n",
    "x_rows = np.where(np.logical_and(event_data[:,1] >= input_rect[0], event_data[:,1] <= input_rect[1]))\n",
    "y_rows = np.where(np.logical_and(event_data[:,1] >= input_rect[2], event_data[:,1] <= input_rect[3]))\n",
    "rows = np.intersect1d(x_rows,y_rows)\n",
    "event_data = event_data[rows]\n",
    "\n",
    "#remove on events\n",
    "rows = np.where(event_data[:,3] == 0)\n",
    "event_data = event_data[rows]\n"
   ]
  },
  {
   "cell_type": "markdown",
   "metadata": {},
   "source": [
    "Based on 'https://github.com/SpiNNakerManchester/PyNN7Examples/blob/master/examples/external_devices_examples/live_examples/spike_io.py'"
   ]
  },
  {
   "cell_type": "code",
   "execution_count": null,
   "metadata": {
    "collapsed": true
   },
   "outputs": [],
   "source": [
    "%%writefile -a pynnscript.py\n",
    "\n",
    "import spynnaker7.pyNN as p\n",
    "import time\n",
    "from threading import Condition\n",
    "\n",
    "# initial call to set up the front end (pynn requirement)\n",
    "p.setup(timestep=1.0, min_delay=1.0, max_delay=144.0)\n"
   ]
  },
  {
   "cell_type": "code",
   "execution_count": null,
   "metadata": {
    "collapsed": true
   },
   "outputs": [],
   "source": [
    "%%writefile -a pynnscript.py\n",
    "\n",
    "# neurons per population and the length of runtime in ms for the simulation,\n",
    "# as well as the expected weight each spike will contain\n",
    "n_neurons = (input_rect[1] - input_rect[0]) * (input_rect[3] - input_rect[2])\n",
    "n_pops = 2\n",
    "\n",
    "input_runtime = np.max(event_data[:,0]) * 1000\n",
    "extra_time = 1000\n",
    "run_time = input_runtime + extra_time\n",
    "\n",
    "weight_to_spike = 2.0\n"
   ]
  },
  {
   "cell_type": "code",
   "execution_count": null,
   "metadata": {
    "collapsed": true
   },
   "outputs": [],
   "source": [
    "%%writefile -a pynnscript.py\n",
    "# neural parameters of the ifcur model used to respond to injected spikes.\n",
    "# (cell params for a synfire chain)\n",
    "cell_params_lif = {'cm': 0.25,\n",
    "                   'i_offset': 0.0,\n",
    "                   'tau_m': 20.0,\n",
    "                   'tau_refrac': 2.0,\n",
    "                   'tau_syn_E': 5.0,\n",
    "                   'tau_syn_I': 5.0,\n",
    "                   'v_reset': -70.0,\n",
    "                   'v_rest': -65.0,\n",
    "                   'v_thresh': -50.0\n",
    "                   }\n",
    "\n",
    "##################################\n",
    "# Parameters for the injector population.  This is the minimal set of\n",
    "# parameters required, which is for a set of spikes where the key is not\n",
    "# important.  Note that a virtual key *will* be assigned to the population,\n",
    "# and that spikes sent which do not match this virtual key will be dropped;\n",
    "# however, if spikes are sent using 16-bit keys, they will automatically be\n",
    "# made to match the virtual key.  The virtual key assigned can be obtained\n",
    "# from the database.\n",
    "##################################\n",
    "cell_params_spike_injector = {\n",
    "    # The port on which the spiNNaker machine should listen for packets.\n",
    "    # Packets to be injected should be sent to this port on the spiNNaker\n",
    "    # machine\n",
    "    'port': 12345,\n",
    "}\n",
    "\n",
    "\n",
    "##################################\n",
    "# Parameters for the injector population.  Note that each injector needs to\n",
    "# be given a different port.  The virtual key is assigned here, rather than\n",
    "# being allocated later.  As with the above, spikes injected need to match\n",
    "# this key, and this will be done automatically with 16-bit keys.\n",
    "##################################\n",
    "cell_params_spike_injector_with_key = {\n",
    "\n",
    "    # The port on which the spiNNaker machine should listen for packets.\n",
    "    # Packets to be injected should be sent to this port on the spiNNaker\n",
    "    # machine\n",
    "    'port': 12346,\n",
    "\n",
    "    # This is the base key to be used for the injection, which is used to\n",
    "    # allow the keys to be routed around the spiNNaker machine.  This\n",
    "    # assignment means that 32-bit keys must have the high-order 16-bit\n",
    "    # set to 0x7; This will automatically be prepended to 16-bit keys.\n",
    "    'virtual_key': 0x70000,\n",
    "}\n"
   ]
  },
  {
   "cell_type": "code",
   "execution_count": null,
   "metadata": {
    "collapsed": true
   },
   "outputs": [],
   "source": [
    "%%writefile -a pynnscript.py\n",
    "\n",
    "timing_rule = sim.SpikePairRule(tau_plus=20.0, tau_minus=20.0,\n",
    "                                A_plus=0.5, A_minus=0.5)\n",
    "weight_rule = sim.AdditiveWeightDependence(w_max=5.0, w_min=0.0)\n",
    "\n",
    "stdp_model = sim.STDPMechanism(timing_dependence=timing_rule,\n",
    "                               weight_dependence=weight_rule,\n",
    "                               weight=0.0, delay=5.0)\n"
   ]
  },
  {
   "cell_type": "code",
   "execution_count": null,
   "metadata": {
    "collapsed": true
   },
   "outputs": [],
   "source": [
    "%%writefile -a pynnscript.py\n",
    "\n",
    "pops = []\n",
    "\n",
    "# Create injection populations\n",
    "injector = p.Population(\n",
    "        n_neurons, p.external_devices.SpikeInjector,\n",
    "        cell_params_spike_injector_with_key, label='spike_injector')\n",
    "\n",
    "for i in range(0, n_pops):\n",
    "    # create populations (if cur exp)\n",
    "    pops.append(p.Population(n_neurons, p.IF_curr_exp,\n",
    "                                  cell_params_lif, label='pop_{}'.format(i)))\n",
    "\n",
    "   \n",
    "    # Create a connection from the injector into the populations\n",
    "    p.Projection(injector, pops[i],\n",
    "                        p.OneToOneConnector(weights=weight_to_spike), synapse_type=stdp_model)\n",
    "    \n",
    "    # record output for this population\n",
    "    pop[i].record()\n",
    "    \n",
    "    # Activate the sending of live spikes\n",
    "    p.external_devices.activate_live_output_for(\n",
    "        pop[i], database_notify_host=\"localhost\",\n",
    "        database_notify_port_num=19996)\n",
    "    "
   ]
  },
  {
   "cell_type": "code",
   "execution_count": null,
   "metadata": {
    "collapsed": true
   },
   "outputs": [],
   "source": [
    "%%writefile -a pynnscript.py\n",
    "# Create a connection from the injector into the populations\n",
    "p.Projection(pops[0], pops[1],\n",
    "                    p.OneToOneConnector(weights=weight_to_spike), synapse_type=sim.StaticSynapse(weight=-0.75,delay=1.0))\n"
   ]
  },
  {
   "cell_type": "code",
   "execution_count": null,
   "metadata": {
    "collapsed": true
   },
   "outputs": [],
   "source": [
    "%%writefile -a pynnscript.py\n",
    "# Create a condition to avoid overlapping prints\n",
    "print_condition = Condition()\n"
   ]
  },
  {
   "cell_type": "code",
   "execution_count": null,
   "metadata": {
    "collapsed": true
   },
   "outputs": [],
   "source": [
    "%%writefile -a pynnscript.py\n",
    "# Create an initialisation method\n",
    "def init_pop(label, n_neurons, run_time_ms, machine_timestep_ms):\n",
    "    print \"{} has {} neurons\".format(label, n_neurons)\n",
    "    print \"Simulation will run for {}ms at {}ms timesteps\".format(\n",
    "        run_time_ms, machine_timestep_ms)\n",
    "    "
   ]
  },
  {
   "cell_type": "code",
   "execution_count": null,
   "metadata": {
    "collapsed": true
   },
   "outputs": [],
   "source": [
    "%%writefile -a pynnscript.py\n",
    "# Create a sender of packets for the populations\n",
    "\n",
    "import shed, time\n",
    "s = sched.scheduler(time.time, time.sleep)\n",
    "\n",
    "def send_input(label, sender):\n",
    "    for i in range(0, event_data.shape[0]):\n",
    "        neuron_id = ((event_data[i,1] - input_rect[0]) * input_rect[1]) + (event_data[i,2] - input_rect[2])\n",
    "        for p in range(0, n_pops):\n",
    "            neuron_id = neuron_id + (n_neurons * p)\n",
    "            s.enter(event_data[i,0],0,sender.send_spike,(label,neuron_id))\n",
    "    \n",
    "    '''\n",
    "    print_condition.acquire()\n",
    "    print \"Sending forward spike\", neuron_id\n",
    "    print_condition.release()\n",
    "    sender.send_spike(label, neuron_id, send_full_keys=True)\n",
    "    '''\n",
    "    "
   ]
  },
  {
   "cell_type": "code",
   "execution_count": null,
   "metadata": {
    "collapsed": true
   },
   "outputs": [],
   "source": [
    "%%writefile -a pynnscript.py\n",
    "# Create a receiver of live spikes\n",
    "def receive_spikes(label, time, neuron_ids):\n",
    "    for neuron_id in neuron_ids:\n",
    "        print_condition.acquire()\n",
    "        print \"Received spike at time\", time, \"from\", label, \"-\", neuron_id\n",
    "        print_condition.release()\n",
    "        "
   ]
  },
  {
   "cell_type": "code",
   "execution_count": null,
   "metadata": {
    "collapsed": true
   },
   "outputs": [],
   "source": [
    "%%writefile -a pynnscript.py\n",
    "# Set up the live connection for sending spikes\n",
    "live_spikes_connection_send = \\\n",
    "    p.external_devices.SpynnakerLiveSpikesConnection(\n",
    "        receive_labels=None, local_port=19999,\n",
    "        send_labels=[\"spike_injector\"])\n",
    "\n",
    "# Set up callbacks to occur at initialisation\n",
    "live_spikes_connection_send.add_init_callback(\n",
    "    \"spike_injector\", init_pop)\n",
    "\n",
    "# Set up callbacks to occur at the start of simulation\n",
    "live_spikes_connection_send.add_start_callback(\n",
    "    \"spike_injector\", send_input)\n"
   ]
  },
  {
   "cell_type": "code",
   "execution_count": null,
   "metadata": {
    "collapsed": true
   },
   "outputs": [],
   "source": [
    "%%writefile -a pynnscript.py\n",
    "# if not using the c visualiser, then a new spynnaker live spikes\n",
    "# connection is created to define that there is a python function which\n",
    "# receives the spikes.\n",
    "pop_labels = ['pop_{}'.format(i) for i in range(0,n_pops)]\n",
    "live_spikes_connection_receive = \\\n",
    "    p.external_devices.SpynnakerLiveSpikesConnection(\n",
    "        receive_labels=pop_labels,\n",
    "        local_port=19996, send_labels=None)\n",
    "\n",
    "# Set up callbacks to occur when spikes are received\n",
    "for i in range(0, n_pops):\n",
    "    live_spikes_connection_receive.add_receive_callback(\n",
    "        pop_labels[i], receive_spikes)\n"
   ]
  },
  {
   "cell_type": "code",
   "execution_count": null,
   "metadata": {
    "collapsed": true
   },
   "outputs": [],
   "source": [
    "%%writefile -a pynnscript.py\n",
    "# Run the simulation on spiNNaker\n",
    "p.run(run_time)\n",
    "\n",
    "# Retrieve spikes from the synfire chain population\n",
    "spikes = [pop[i].getSpikes() for i in range(0, n_pops)]\n",
    "\n",
    "# If there are spikes, plot using matplotlib\n",
    "number_of_spikes = sum([len(pop[i]) for i in range(0, n_pops)])\n",
    "if number_of_spikes != 0:\n",
    "    pylab.figure()\n",
    "    for spike_pop in spikes:\n",
    "        if len(spikes_pop) != 0:\n",
    "            pylab.plot([i[1] for i in spikes_pop],\n",
    "                       [i[0] for i in spikes_pop])\n",
    "    pylab.ylabel('neuron id')\n",
    "    pylab.xlabel('Time/ms')\n",
    "    pylab.title('spikes')\n",
    "    pylab.show()\n",
    "else:\n",
    "    print \"No spikes received\"\n",
    "\n",
    "# Clear data structures on spiNNaker to leave the machine in a clean state for\n",
    "# future executions\n",
    "p.end()\n"
   ]
  },
  {
   "cell_type": "code",
   "execution_count": null,
   "metadata": {
    "collapsed": true
   },
   "outputs": [],
   "source": [
    "%pycat pynnscript.py"
   ]
  },
  {
   "cell_type": "code",
   "execution_count": null,
   "metadata": {
    "collapsed": true
   },
   "outputs": [],
   "source": [
    "job_path = client.submit_job(source='pynnscript.py',\n",
    "                      platform=nmpi.SPINNAKER,\n",
    "                      collab_id=aistate_collab_id,\n",
    "                      config={},\n",
    "                      command=\"run.py\")\n"
   ]
  },
  {
   "cell_type": "code",
   "execution_count": null,
   "metadata": {
    "collapsed": true
   },
   "outputs": [],
   "source": [
    "job_id = job_path.split('/')[-1]"
   ]
  },
  {
   "cell_type": "code",
   "execution_count": null,
   "metadata": {
    "collapsed": true
   },
   "outputs": [],
   "source": [
    "# execute this line until it says 'finished'\n",
    "client.job_status(job_id)"
   ]
  },
  {
   "cell_type": "code",
   "execution_count": null,
   "metadata": {
    "collapsed": true
   },
   "outputs": [],
   "source": [
    "ret = client.get_job(job_id, with_log=True)"
   ]
  },
  {
   "cell_type": "code",
   "execution_count": null,
   "metadata": {
    "collapsed": true
   },
   "outputs": [],
   "source": [
    "print(ret['log'])"
   ]
  },
  {
   "cell_type": "code",
   "execution_count": null,
   "metadata": {
    "collapsed": true
   },
   "outputs": [],
   "source": []
  }
 ],
 "metadata": {
  "kernelspec": {
   "display_name": "Python 2",
   "language": "python",
   "name": "python2"
  },
  "language_info": {
   "codemirror_mode": {
    "name": "ipython",
    "version": 2
   },
   "file_extension": ".py",
   "mimetype": "text/x-python",
   "name": "python",
   "nbconvert_exporter": "python",
   "pygments_lexer": "ipython2",
   "version": "2.7.13"
  }
 },
 "nbformat": 4,
 "nbformat_minor": 2
}
