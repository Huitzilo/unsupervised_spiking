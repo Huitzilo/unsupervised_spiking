{
 "cells": [
  {
   "cell_type": "code",
   "execution_count": 1,
   "metadata": {},
   "outputs": [
    {
     "name": "stdout",
     "output_type": "stream",
     "text": [
      "Collecting hbp_neuromorphic_platform\n",
      "  Downloading hbp_neuromorphic_platform-0.6.0.tar.gz\n",
      "Collecting requests (from hbp_neuromorphic_platform)\n",
      "  Downloading requests-2.18.4-py2.py3-none-any.whl (88kB)\n",
      "\u001b[K    100% |████████████████████████████████| 92kB 2.6MB/s ta 0:00:01\n",
      "\u001b[?25hCollecting chardet<3.1.0,>=3.0.2 (from requests->hbp_neuromorphic_platform)\n",
      "  Downloading chardet-3.0.4-py2.py3-none-any.whl (133kB)\n",
      "\u001b[K    100% |████████████████████████████████| 143kB 3.5MB/s ta 0:00:01\n",
      "\u001b[?25hCollecting certifi>=2017.4.17 (from requests->hbp_neuromorphic_platform)\n",
      "  Downloading certifi-2018.1.18-py2.py3-none-any.whl (151kB)\n",
      "\u001b[K    100% |████████████████████████████████| 153kB 2.7MB/s ta 0:00:01\n",
      "\u001b[?25hCollecting urllib3<1.23,>=1.21.1 (from requests->hbp_neuromorphic_platform)\n",
      "  Downloading urllib3-1.22-py2.py3-none-any.whl (132kB)\n",
      "\u001b[K    100% |████████████████████████████████| 133kB 3.3MB/s ta 0:00:01\n",
      "\u001b[?25hCollecting idna<2.7,>=2.5 (from requests->hbp_neuromorphic_platform)\n",
      "  Downloading idna-2.6-py2.py3-none-any.whl (56kB)\n",
      "\u001b[K    100% |████████████████████████████████| 61kB 4.6MB/s ta 0:00:01\n",
      "\u001b[?25hBuilding wheels for collected packages: hbp-neuromorphic-platform\n",
      "  Running setup.py bdist_wheel for hbp-neuromorphic-platform ... \u001b[?25ldone\n",
      "\u001b[?25h  Stored in directory: /Users/micha/Library/Caches/pip/wheels/ee/89/61/0f9f010018966688472907453c99be71637ea356e3e6969620\n",
      "Successfully built hbp-neuromorphic-platform\n",
      "Installing collected packages: chardet, certifi, urllib3, idna, requests, hbp-neuromorphic-platform\n",
      "  Found existing installation: certifi 2017.11.5\n",
      "\u001b[31m    DEPRECATION: Uninstalling a distutils installed project (certifi) has been deprecated and will be removed in a future version. This is due to the fact that uninstalling a distutils project will only partially uninstall the project.\u001b[0m\n",
      "    Uninstalling certifi-2017.11.5:\n",
      "      Successfully uninstalled certifi-2017.11.5\n",
      "Successfully installed certifi-2018.1.18 chardet-3.0.4 hbp-neuromorphic-platform-0.6.0 idna-2.6 requests-2.18.4 urllib3-1.22\n"
     ]
    }
   ],
   "source": [
    "!pip install -U hbp_neuromorphic_platform"
   ]
  },
  {
   "cell_type": "code",
   "execution_count": 6,
   "metadata": {},
   "outputs": [
    {
     "name": "stdout",
     "output_type": "stream",
     "text": [
      "········\n",
      "[u'SGA2 planning', u'my test', u'Gas-based navigation', u'Neuromorphic signal processing and classification', u'Neuromorphic Computing Benchmarks', u'On-chip supervised learning', u'readysetgo', u'BioMachineLearning', u'NM Computing Jupyter examples', u'UH AI state']\n"
     ]
    }
   ],
   "source": [
    "import nmpi\n",
    "client = nmpi.Client(\"schmuker\")\n",
    "print(client.my_collabs().keys())"
   ]
  },
  {
   "cell_type": "code",
   "execution_count": 11,
   "metadata": {},
   "outputs": [],
   "source": [
    "aistate_collab_id = client.my_collabs()['UH AI state']['id']"
   ]
  },
  {
   "cell_type": "code",
   "execution_count": 41,
   "metadata": {},
   "outputs": [
    {
     "name": "stdout",
     "output_type": "stream",
     "text": [
      "Overwriting test.py\n"
     ]
    }
   ],
   "source": [
    "%%file test.py\n",
    "\n",
    "import pyNN.spiNNaker as p\n",
    "\n",
    "p.setup(1.)\n",
    "\n",
    "pop = p.Population(784, p.IF_cond_exp())\n",
    "\n",
    "print(\"just testing 1 2 3\")\n",
    "p.run(1000.)\n",
    "p.end()"
   ]
  },
  {
   "cell_type": "code",
   "execution_count": 42,
   "metadata": {},
   "outputs": [
    {
     "name": "stdout",
     "output_type": "stream",
     "text": [
      "Job submitted\n"
     ]
    }
   ],
   "source": [
    "job_path = client.submit_job(source='test.py',\n",
    "                      platform=nmpi.SPINNAKER,\n",
    "                      collab_id=aistate_collab_id,\n",
    "                      config={},\n",
    "                      command=\"run.py\")\n"
   ]
  },
  {
   "cell_type": "code",
   "execution_count": 43,
   "metadata": {},
   "outputs": [],
   "source": [
    "job_id = job_path.split('/')[-1]"
   ]
  },
  {
   "cell_type": "code",
   "execution_count": 56,
   "metadata": {},
   "outputs": [
    {
     "data": {
      "text/plain": [
       "u'finished'"
      ]
     },
     "execution_count": 56,
     "metadata": {},
     "output_type": "execute_result"
    }
   ],
   "source": [
    "# execute this line until it says 'finished'\n",
    "client.job_status(job_id)"
   ]
  },
  {
   "cell_type": "code",
   "execution_count": 57,
   "metadata": {},
   "outputs": [],
   "source": [
    "ret = client.get_job(job_id, with_log=True)"
   ]
  },
  {
   "cell_type": "code",
   "execution_count": 58,
   "metadata": {},
   "outputs": [
    {
     "name": "stdout",
     "output_type": "stream",
     "text": [
      "2018-01-23 15:57:09 INFO: Read config files: /opt/git/SpiNNFrontEndCommon/spinn_front_end_common/interface/spinnaker.cfg, /opt/git/sPyNNaker/spynnaker/pyNN/spynnaker.cfg, /home/spinnaker/.spynnaker.cfg, ./spynnaker.cfg\n",
      "2018-01-23 15:57:09 INFO: Will search these locations for binaries: /opt/git/SpiNNFrontEndCommon/spinn_front_end_common/common_model_binaries : /opt/git/sPyNNaker/spynnaker/pyNN/model_binaries\n",
      "2018-01-23 15:57:09 INFO: Setting time scale factor to 1.\n",
      "2018-01-23 15:57:09 INFO: Setting machine time step to 1000.0 micro-seconds.\n",
      "2018-01-23 15:57:09 INFO: Simulating for 1 1000.000000ms timesteps using a hardware timestep of 1000000us\n",
      "2018-01-23 15:57:09 INFO: Starting execution process\n",
      "2018-01-23 15:57:10 INFO: Starting new HTTP connection (1): spinnaker.cs.man.ac.uk\n",
      "2018-01-23 15:57:10 INFO: Time 0:00:00.038261 taken by HBPMaxMachineGenerator\n",
      "2018-01-23 15:57:11 INFO: Time 0:00:00.494447 taken by VirtualMachineGenerator\n",
      "Allocating virtual identifiers\n",
      "|0%                          50%                         100%|\n",
      " ============================================================\n",
      "2018-01-23 15:57:11 INFO: Time 0:00:00.529613 taken by MallocBasedChipIDAllocator\n",
      "Partitioning graph vertices\n",
      "|0%                          50%                         100%|\n",
      " ============================================================\n",
      "Partitioning graph edges\n",
      "|0%                          50%                         100%|\n",
      " ============================================================\n",
      "2018-01-23 15:57:12 INFO: Time 0:00:00.187546 taken by PartitionAndPlacePartitioner\n",
      "2018-01-23 15:57:12 INFO: Starting new HTTP connection (1): spinnaker.cs.man.ac.uk\n",
      "2018-01-23 15:57:17 INFO: Time 0:00:05.034618 taken by HBPAllocator\n",
      "2018-01-23 15:57:17 INFO: Creating transceiver for 10.11.225.9\n",
      "2018-01-23 15:57:17 INFO: Working out if machine is booted\n",
      "2018-01-23 15:57:19 INFO: Attempting to boot machine\n",
      "2018-01-23 15:57:26 INFO: Attempting to boot machine\n",
      "2018-01-23 15:57:31 INFO: Found board with version [Version: SC&MP 3.1.0 at SpiNNaker:0:0:0 (built Fri Jan 27 10:23:34 2017)]\n",
      "2018-01-23 15:57:31 INFO: Machine communication successful\n",
      "2018-01-23 15:57:31 INFO: Detected a machine on ip address 10.11.225.9 which has 837 cores and 116 links\n",
      "2018-01-23 15:57:31 INFO: Time 0:00:14.254911 taken by MachineGenerator\n",
      "Allocating virtual identifiers\n",
      "|0%                          50%                         100%|\n",
      " ============================================================\n",
      "2018-01-23 15:57:31 INFO: Time 0:00:00.003620 taken by MallocBasedChipIDAllocator\n",
      "Generating partitioner report\n",
      "|0%                          50%                         100%|\n",
      " ============================================================\n",
      "2018-01-23 15:57:31 INFO: Time 0:00:00.001478 taken by PartitionerReport\n",
      "2018-01-23 15:57:31 INFO: Time 0:00:00.000176 taken by NetworkSpecificationReport\n",
      "Filtering edges\n",
      "|0%                          50%                         100%|\n",
      " ============================================================\n",
      "2018-01-23 15:57:31 INFO: Time 0:00:00.022683 taken by GraphEdgeFilter\n",
      "Placing graph vertices\n",
      "|0%                          50%                         100%|\n",
      " ============================================================\n",
      "2018-01-23 15:57:31 INFO: Time 0:00:00.003478 taken by OneToOnePlacer\n",
      "Generating placement report\n",
      "|0%                          50%                         100%|\n",
      " ============================================================\n",
      "Generating placement by core report\n",
      "|0%                          50%                         100%|\n",
      " ============================================================\n",
      "Generating SDRAM usage report\n",
      "|0%                          50%                         100%|\n",
      " ============================================================\n",
      "2018-01-23 15:57:31 INFO: Time 0:00:00.009995 taken by PlacerReportWithApplicationGraph\n",
      "Routing\n",
      "|0%                          50%                         100%|\n",
      " ============================================================\n",
      "2018-01-23 15:57:31 INFO: Time 0:00:00.005588 taken by RigRoute\n",
      "Allocating tags\n",
      "|0%                          50%                         100%|\n",
      " ============================================================\n",
      "2018-01-23 15:57:31 INFO: Time 0:00:00.002486 taken by BasicTagAllocator\n",
      "Reporting Tags\n",
      "|0%                          50%                         100%|\n",
      " ============================================================\n",
      "2018-01-23 15:57:31 INFO: Time 0:00:00.002152 taken by TagReport\n",
      "Getting number of keys required by each edge using application graph\n",
      "|0%                          50%                         100%|\n",
      " ============================================================\n",
      "2018-01-23 15:57:31 INFO: Time 0:00:00.001612 taken by EdgeToNKeysMapper\n",
      "Allocating routing keys\n",
      "|0%                          50%                         100%|\n",
      " ============================================================\n",
      "2018-01-23 15:57:31 INFO: Time 0:00:00.001678 taken by MallocBasedRoutingInfoAllocator\n",
      "Generating Routing info report\n",
      "|0%                          50%                         100%|\n",
      " ============================================================\n",
      "2018-01-23 15:57:31 INFO: Time 0:00:00.001572 taken by routingInfoReports\n",
      "Generating routing tables\n",
      "|0%                          50%                         100%|\n",
      " ============================================================\n",
      "2018-01-23 15:57:31 INFO: Time 0:00:00.002307 taken by BasicRoutingTableGenerator\n",
      "Finding executable_start_types\n",
      "|0%                          50%                         100%|\n",
      " ============================================================\n",
      "2018-01-23 15:57:31 INFO: Time 0:00:00.001485 taken by LocateExecutableStartType\n",
      "Initialising buffers\n",
      "|0%                          50%                         100%|\n",
      " 2018-01-23 15:57:31 INFO: Listening for packets using tag 1 on 0.0.0.0:49876\n",
      "============================================================\n",
      "2018-01-23 15:57:31 INFO: Time 0:00:00.002960 taken by BufferManagerCreator\n",
      "Generating sPyNNaker data specifications\n",
      "|0%                          50%                         100%|\n",
      " ============================================================\n",
      "2018-01-23 15:57:33 INFO: Time 0:00:01.422626 taken by SpynnakerDataSpecificationWriter\n",
      "Getting provenance data from machine graph\n",
      "|0%                          50%                         100%|\n",
      " ============================================================\n",
      "Getting provenance data from application graph\n",
      "|0%                          50%                         100%|\n",
      " ============================================================\n",
      "2018-01-23 15:57:33 INFO: Time 0:00:00.003044 taken by GraphProvenanceGatherer\n",
      "Preparing Routing Tables\n",
      "|0%                          50%                         100%|\n",
      " ============================================================\n",
      "2018-01-23 15:57:33 INFO: Time 0:00:00.001475 taken by RoutingSetup\n",
      "Finding binaries\n",
      "|0%                          50%                         100%|\n",
      " ============================================================\n",
      "2018-01-23 15:57:33 INFO: Time 0:00:00.001895 taken by GraphBinaryGatherer\n",
      "Running routing table compression on chip\n",
      "|0%                          50%                         100%|\n",
      " ============================================================\n",
      "2018-01-23 15:57:35 INFO: Time 0:00:01.916597 taken by MundyOnChipRouterCompression\n",
      "Clearing tags\n",
      "|0%                          50%                         100%|\n",
      " ============================================================\n",
      "Loading Tags\n",
      "|0%                          50%                         100%|\n",
      " ============================================================\n",
      "2018-01-23 15:57:35 INFO: Time 0:00:00.007082 taken by TagsLoader\n",
      "Executing data specifications and loading data\n",
      "|0%                          50%                         100%|\n",
      " ============================================================\n",
      "2018-01-23 15:57:35 INFO: Time 0:00:00.378520 taken by HostExecuteDataSpecification\n",
      "Loading executables onto the machine\n",
      "|0%                          50%                         100%|\n",
      " ============================================================\n",
      "2018-01-23 15:57:36 INFO: Time 0:00:01.379729 taken by LoadExecutableImages\n",
      "2018-01-23 15:57:36 INFO: Running for 1 steps for a total of 1000.0 ms\n",
      "2018-01-23 15:57:36 INFO: Run 1 of 1\n",
      "Updating run time\n",
      "|0%                          50%                         100%|\n",
      " ============================================================\n",
      "2018-01-23 15:57:36 INFO: Time 0:00:00.014500 taken by ChipRuntimeUpdater\n",
      "2018-01-23 15:57:36 INFO: Time 0:00:00.000183 taken by DatabaseInterface\n",
      "2018-01-23 15:57:36 INFO: Time 0:00:00.001525 taken by NotificationProtocol\n",
      "2018-01-23 15:57:36 INFO: *** Running simulation... *** \n",
      "Loading buffers (0 bytes)\n",
      "|0%                          50%                         100%|\n",
      " ============================================================\n",
      "2018-01-23 15:57:36 INFO: *** Awaiting for a response from an external source to state its ready for the simulation to start ***\n",
      "2018-01-23 15:57:36 INFO: *** Sending start / resume message to external sources to state the simulation has started or resumed. ***\n",
      "2018-01-23 15:57:36 INFO: *** Awaiting for a response from an external source to state its ready for the simulation to start ***\n",
      "2018-01-23 15:57:36 INFO: Application started - waiting 1.1 seconds for it to stop\n",
      "2018-01-23 15:57:38 INFO: *** Sending pause / stop message to external sources to state the simulation has been paused or stopped. ***\n",
      "2018-01-23 15:57:38 INFO: Time 0:00:01.255809 taken by ApplicationRunner\n",
      "Getting provenance data\n",
      "|0%                          50%                         100%|\n",
      " ============================================================\n",
      "2018-01-23 15:57:38 INFO: Time 0:00:00.007523 taken by PlacementsProvenanceGatherer\n",
      "Getting Router Provenance\n",
      "|0%                          50%                         100%|\n",
      " ============================================================\n",
      "2018-01-23 15:57:38 INFO: Time 0:00:00.097624 taken by RouterProvenanceGatherer\n",
      "Getting profile data\n",
      "|0%                          50%                         100%|\n",
      " ============================================================\n",
      "2018-01-23 15:57:38 INFO: Time 0:00:00.019507 taken by ProfileDataGatherer\n",
      "['/opt/git/SpiNNFrontEndCommon/spinn_front_end_common/interface/spinnaker.cfg', '/opt/git/sPyNNaker/spynnaker/pyNN/spynnaker.cfg', '/home/spinnaker/.spynnaker.cfg', './spynnaker.cfg']\n",
      "just testing 1 2 3\n",
      "\n"
     ]
    }
   ],
   "source": [
    "print(ret['log'])"
   ]
  },
  {
   "cell_type": "code",
   "execution_count": null,
   "metadata": {},
   "outputs": [],
   "source": []
  }
 ],
 "metadata": {
  "kernelspec": {
   "display_name": "Python 2",
   "language": "python",
   "name": "python2"
  },
  "language_info": {
   "codemirror_mode": {
    "name": "ipython",
    "version": 2
   },
   "file_extension": ".py",
   "mimetype": "text/x-python",
   "name": "python",
   "nbconvert_exporter": "python",
   "pygments_lexer": "ipython2",
   "version": "2.7.14"
  }
 },
 "nbformat": 4,
 "nbformat_minor": 2
}
